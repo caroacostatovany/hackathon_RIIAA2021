{
  "nbformat": 4,
  "nbformat_minor": 0,
  "metadata": {
    "colab": {
      "name": "pipeline.ipynb",
      "provenance": [],
      "collapsed_sections": []
    },
    "kernelspec": {
      "name": "python3",
      "display_name": "Python 3"
    },
    "language_info": {
      "name": "python"
    },
    "accelerator": "GPU"
  },
  "cells": [
    {
      "cell_type": "markdown",
      "metadata": {
        "id": "kvHggUO-_iO_"
      },
      "source": [
        "Se debe agregar la carpeta a analizar en el drive y acceder a la carpeta compartida a través de las siguientes líneas.\n"
      ]
    },
    {
      "cell_type": "code",
      "metadata": {
        "id": "Lk6gWbfM_i3Z",
        "colab": {
          "base_uri": "https://localhost:8080/"
        },
        "outputId": "f70fc2fe-6fbe-474c-a650-2ef26bc4d70b"
      },
      "source": [
        "from google.colab import drive\n",
        "drive.mount('/content/drive')"
      ],
      "execution_count": 1,
      "outputs": [
        {
          "output_type": "stream",
          "text": [
            "Mounted at /content/drive\n"
          ],
          "name": "stdout"
        }
      ]
    },
    {
      "cell_type": "markdown",
      "metadata": {
        "id": "XbRaK4_gWOr4"
      },
      "source": [
        "# Constantes"
      ]
    },
    {
      "cell_type": "markdown",
      "metadata": {
        "id": "A5EsiSSiXK97"
      },
      "source": [
        "Recuerda que debes cambiar las constantes a como tu lo necesites. (Si cambia el path de directorio o imagen a probar)"
      ]
    },
    {
      "cell_type": "code",
      "metadata": {
        "id": "cz9cwLuF_n7K"
      },
      "source": [
        "# Directorio a analizar\n",
        "in_dir = '/content/drive/MyDrive/Datos - Hackathon JusticIA/Evaluacion/Reto2'"
      ],
      "execution_count": 2,
      "outputs": []
    },
    {
      "cell_type": "code",
      "metadata": {
        "id": "fT6w-fVX6wrG"
      },
      "source": [
        "# Alguna imagen en específico para analizar en la sección de una sola imagen\n",
        "path = \"/content/drive/MyDrive/Ficheros_Detenidos_Desaparecidos_Morales_Lopez_Delia_Morales_Lopez_Delia-23-.JPG\""
      ],
      "execution_count": 3,
      "outputs": []
    },
    {
      "cell_type": "code",
      "metadata": {
        "id": "qmNjiKMSSd8E"
      },
      "source": [
        "# Directorio para guardar la salida del csv\n",
        "output_dir_path = \"/content/drive/MyDrive\""
      ],
      "execution_count": 4,
      "outputs": []
    },
    {
      "cell_type": "markdown",
      "metadata": {
        "id": "EnI_c-Yx-97Q"
      },
      "source": [
        "## Importación de librerias importantes"
      ]
    },
    {
      "cell_type": "code",
      "metadata": {
        "id": "T7Jd62cs6XKv",
        "colab": {
          "base_uri": "https://localhost:8080/"
        },
        "outputId": "fdfdf874-f96f-4acd-aac2-26491ebb3d1c"
      },
      "source": [
        "!pip install \"git+https://github.com/caroacostatovany/hackathon_RIIAA2021.git#egg=busquedadesaparecidos&subdirectory=src\" --quiet"
      ],
      "execution_count": 5,
      "outputs": [
        {
          "output_type": "stream",
          "text": [
            "\u001b[K     |████████████████████████████████| 45.6 MB 59 kB/s \n",
            "\u001b[K     |████████████████████████████████| 241 kB 43.7 MB/s \n",
            "\u001b[?25h  Building wheel for busquedadesaparecidos (setup.py) ... \u001b[?25l\u001b[?25hdone\n",
            "  Building wheel for pytesseract (setup.py) ... \u001b[?25l\u001b[?25hdone\n",
            "  Building wheel for tesseract (setup.py) ... \u001b[?25l\u001b[?25hdone\n"
          ],
          "name": "stdout"
        }
      ]
    },
    {
      "cell_type": "code",
      "metadata": {
        "id": "RClHlCiyrPNJ",
        "colab": {
          "base_uri": "https://localhost:8080/"
        },
        "outputId": "8776cdcf-369f-41ab-d1ab-5a0974e2e564"
      },
      "source": [
        "author = 'caroacostatovany'\n",
        "repository = 'hackathon_RIIAA2021'\n",
        "!git clone https://github.com/{author}/{repository}.git"
      ],
      "execution_count": 6,
      "outputs": [
        {
          "output_type": "stream",
          "text": [
            "Cloning into 'hackathon_RIIAA2021'...\n",
            "remote: Enumerating objects: 300, done.\u001b[K\n",
            "remote: Counting objects: 100% (300/300), done.\u001b[K\n",
            "remote: Compressing objects: 100% (211/211), done.\u001b[K\n",
            "remote: Total 300 (delta 163), reused 205 (delta 79), pack-reused 0\u001b[K\n",
            "Receiving objects: 100% (300/300), 27.37 MiB | 16.29 MiB/s, done.\n",
            "Resolving deltas: 100% (163/163), done.\n"
          ],
          "name": "stdout"
        }
      ]
    },
    {
      "cell_type": "code",
      "metadata": {
        "id": "zqdsllcL9vdC",
        "colab": {
          "base_uri": "https://localhost:8080/"
        },
        "outputId": "81e4c3f6-db19-4662-9b31-7b93c3cf1815"
      },
      "source": [
        "!sudo apt install libleptonica-dev tesseract-ocr libtesseract-dev --quiet"
      ],
      "execution_count": 7,
      "outputs": [
        {
          "output_type": "stream",
          "text": [
            "Reading package lists...\n",
            "Building dependency tree...\n",
            "Reading state information...\n",
            "The following package was automatically installed and is no longer required:\n",
            "  libnvidia-common-460\n",
            "Use 'sudo apt autoremove' to remove it.\n",
            "The following additional packages will be installed:\n",
            "  tesseract-ocr-eng tesseract-ocr-osd\n",
            "The following NEW packages will be installed:\n",
            "  libleptonica-dev libtesseract-dev tesseract-ocr tesseract-ocr-eng\n",
            "  tesseract-ocr-osd\n",
            "0 upgraded, 5 newly installed, 0 to remove and 40 not upgraded.\n",
            "Need to get 7,550 kB of archives.\n",
            "After this operation, 29.6 MB of additional disk space will be used.\n",
            "Get:1 http://archive.ubuntu.com/ubuntu bionic/universe amd64 libleptonica-dev amd64 1.75.3-3 [1,308 kB]\n",
            "Get:2 http://archive.ubuntu.com/ubuntu bionic/universe amd64 libtesseract-dev amd64 4.00~git2288-10f4998a-2 [1,447 kB]\n",
            "Get:3 http://archive.ubuntu.com/ubuntu bionic/universe amd64 tesseract-ocr-eng all 4.00~git24-0e00fe6-1.2 [1,588 kB]\n",
            "Get:4 http://archive.ubuntu.com/ubuntu bionic/universe amd64 tesseract-ocr-osd all 4.00~git24-0e00fe6-1.2 [2,989 kB]\n",
            "Get:5 http://archive.ubuntu.com/ubuntu bionic/universe amd64 tesseract-ocr amd64 4.00~git2288-10f4998a-2 [218 kB]\n",
            "Fetched 7,550 kB in 3s (2,562 kB/s)\n",
            "debconf: unable to initialize frontend: Dialog\n",
            "debconf: (No usable dialog-like program is installed, so the dialog based frontend cannot be used. at /usr/share/perl5/Debconf/FrontEnd/Dialog.pm line 76, <> line 5.)\n",
            "debconf: falling back to frontend: Readline\n",
            "debconf: unable to initialize frontend: Readline\n",
            "debconf: (This frontend requires a controlling tty.)\n",
            "debconf: falling back to frontend: Teletype\n",
            "dpkg-preconfigure: unable to re-open stdin: \n",
            "Selecting previously unselected package libleptonica-dev.\n",
            "(Reading database ... 148486 files and directories currently installed.)\n",
            "Preparing to unpack .../libleptonica-dev_1.75.3-3_amd64.deb ...\n",
            "Unpacking libleptonica-dev (1.75.3-3) ...\n",
            "Selecting previously unselected package libtesseract-dev.\n",
            "Preparing to unpack .../libtesseract-dev_4.00~git2288-10f4998a-2_amd64.deb ...\n",
            "Unpacking libtesseract-dev (4.00~git2288-10f4998a-2) ...\n",
            "Selecting previously unselected package tesseract-ocr-eng.\n",
            "Preparing to unpack .../tesseract-ocr-eng_4.00~git24-0e00fe6-1.2_all.deb ...\n",
            "Unpacking tesseract-ocr-eng (4.00~git24-0e00fe6-1.2) ...\n",
            "Selecting previously unselected package tesseract-ocr-osd.\n",
            "Preparing to unpack .../tesseract-ocr-osd_4.00~git24-0e00fe6-1.2_all.deb ...\n",
            "Unpacking tesseract-ocr-osd (4.00~git24-0e00fe6-1.2) ...\n",
            "Selecting previously unselected package tesseract-ocr.\n",
            "Preparing to unpack .../tesseract-ocr_4.00~git2288-10f4998a-2_amd64.deb ...\n",
            "Unpacking tesseract-ocr (4.00~git2288-10f4998a-2) ...\n",
            "Setting up libleptonica-dev (1.75.3-3) ...\n",
            "Setting up tesseract-ocr-osd (4.00~git24-0e00fe6-1.2) ...\n",
            "Setting up tesseract-ocr-eng (4.00~git24-0e00fe6-1.2) ...\n",
            "Setting up libtesseract-dev (4.00~git2288-10f4998a-2) ...\n",
            "Setting up tesseract-ocr (4.00~git2288-10f4998a-2) ...\n",
            "Processing triggers for man-db (2.8.3-2ubuntu0.1) ...\n"
          ],
          "name": "stdout"
        }
      ]
    },
    {
      "cell_type": "code",
      "metadata": {
        "id": "lc0nYLPLfz80",
        "colab": {
          "base_uri": "https://localhost:8080/"
        },
        "outputId": "feaf700f-b33a-4a7b-d834-8f48123f3e96"
      },
      "source": [
        "!pip install -U spacy"
      ],
      "execution_count": 8,
      "outputs": [
        {
          "output_type": "stream",
          "text": [
            "Requirement already satisfied: spacy in /usr/local/lib/python3.7/dist-packages (2.2.4)\n",
            "Collecting spacy\n",
            "  Downloading spacy-3.1.2-cp37-cp37m-manylinux_2_17_x86_64.manylinux2014_x86_64.whl (5.8 MB)\n",
            "\u001b[K     |████████████████████████████████| 5.8 MB 4.3 MB/s \n",
            "\u001b[?25hCollecting pydantic!=1.8,!=1.8.1,<1.9.0,>=1.7.4\n",
            "  Downloading pydantic-1.8.2-cp37-cp37m-manylinux2014_x86_64.whl (10.1 MB)\n",
            "\u001b[K     |████████████████████████████████| 10.1 MB 34.4 MB/s \n",
            "\u001b[?25hCollecting pathy>=0.3.5\n",
            "  Downloading pathy-0.6.0-py3-none-any.whl (42 kB)\n",
            "\u001b[K     |████████████████████████████████| 42 kB 1.4 MB/s \n",
            "\u001b[?25hRequirement already satisfied: typing-extensions<4.0.0.0,>=3.7.4 in /usr/local/lib/python3.7/dist-packages (from spacy) (3.7.4.3)\n",
            "Collecting thinc<8.1.0,>=8.0.8\n",
            "  Downloading thinc-8.0.8-cp37-cp37m-manylinux_2_17_x86_64.manylinux2014_x86_64.whl (621 kB)\n",
            "\u001b[K     |████████████████████████████████| 621 kB 45.9 MB/s \n",
            "\u001b[?25hRequirement already satisfied: blis<0.8.0,>=0.4.0 in /usr/local/lib/python3.7/dist-packages (from spacy) (0.4.1)\n",
            "Requirement already satisfied: preshed<3.1.0,>=3.0.2 in /usr/local/lib/python3.7/dist-packages (from spacy) (3.0.5)\n",
            "Requirement already satisfied: jinja2 in /usr/local/lib/python3.7/dist-packages (from spacy) (2.11.3)\n",
            "Requirement already satisfied: setuptools in /usr/local/lib/python3.7/dist-packages (from spacy) (57.4.0)\n",
            "Requirement already satisfied: packaging>=20.0 in /usr/local/lib/python3.7/dist-packages (from spacy) (21.0)\n",
            "Collecting catalogue<2.1.0,>=2.0.4\n",
            "  Downloading catalogue-2.0.6-py3-none-any.whl (17 kB)\n",
            "Requirement already satisfied: requests<3.0.0,>=2.13.0 in /usr/local/lib/python3.7/dist-packages (from spacy) (2.23.0)\n",
            "Collecting typer<0.4.0,>=0.3.0\n",
            "  Downloading typer-0.3.2-py3-none-any.whl (21 kB)\n",
            "Requirement already satisfied: tqdm<5.0.0,>=4.38.0 in /usr/local/lib/python3.7/dist-packages (from spacy) (4.62.0)\n",
            "Requirement already satisfied: cymem<2.1.0,>=2.0.2 in /usr/local/lib/python3.7/dist-packages (from spacy) (2.0.5)\n",
            "Collecting spacy-legacy<3.1.0,>=3.0.7\n",
            "  Downloading spacy_legacy-3.0.8-py2.py3-none-any.whl (14 kB)\n",
            "Requirement already satisfied: wasabi<1.1.0,>=0.8.1 in /usr/local/lib/python3.7/dist-packages (from spacy) (0.8.2)\n",
            "Requirement already satisfied: murmurhash<1.1.0,>=0.28.0 in /usr/local/lib/python3.7/dist-packages (from spacy) (1.0.5)\n",
            "Collecting srsly<3.0.0,>=2.4.1\n",
            "  Downloading srsly-2.4.1-cp37-cp37m-manylinux2014_x86_64.whl (456 kB)\n",
            "\u001b[K     |████████████████████████████████| 456 kB 54.1 MB/s \n",
            "\u001b[?25hRequirement already satisfied: numpy>=1.15.0 in /usr/local/lib/python3.7/dist-packages (from spacy) (1.19.5)\n",
            "Requirement already satisfied: zipp>=0.5 in /usr/local/lib/python3.7/dist-packages (from catalogue<2.1.0,>=2.0.4->spacy) (3.5.0)\n",
            "Requirement already satisfied: pyparsing>=2.0.2 in /usr/local/lib/python3.7/dist-packages (from packaging>=20.0->spacy) (2.4.7)\n",
            "Requirement already satisfied: smart-open<6.0.0,>=5.0.0 in /usr/local/lib/python3.7/dist-packages (from pathy>=0.3.5->spacy) (5.1.0)\n",
            "Requirement already satisfied: urllib3!=1.25.0,!=1.25.1,<1.26,>=1.21.1 in /usr/local/lib/python3.7/dist-packages (from requests<3.0.0,>=2.13.0->spacy) (1.24.3)\n",
            "Requirement already satisfied: certifi>=2017.4.17 in /usr/local/lib/python3.7/dist-packages (from requests<3.0.0,>=2.13.0->spacy) (2021.5.30)\n",
            "Requirement already satisfied: chardet<4,>=3.0.2 in /usr/local/lib/python3.7/dist-packages (from requests<3.0.0,>=2.13.0->spacy) (3.0.4)\n",
            "Requirement already satisfied: idna<3,>=2.5 in /usr/local/lib/python3.7/dist-packages (from requests<3.0.0,>=2.13.0->spacy) (2.10)\n",
            "Requirement already satisfied: click<7.2.0,>=7.1.1 in /usr/local/lib/python3.7/dist-packages (from typer<0.4.0,>=0.3.0->spacy) (7.1.2)\n",
            "Requirement already satisfied: MarkupSafe>=0.23 in /usr/local/lib/python3.7/dist-packages (from jinja2->spacy) (2.0.1)\n",
            "Installing collected packages: catalogue, typer, srsly, pydantic, thinc, spacy-legacy, pathy, spacy\n",
            "  Attempting uninstall: catalogue\n",
            "    Found existing installation: catalogue 1.0.0\n",
            "    Uninstalling catalogue-1.0.0:\n",
            "      Successfully uninstalled catalogue-1.0.0\n",
            "  Attempting uninstall: srsly\n",
            "    Found existing installation: srsly 1.0.5\n",
            "    Uninstalling srsly-1.0.5:\n",
            "      Successfully uninstalled srsly-1.0.5\n",
            "  Attempting uninstall: thinc\n",
            "    Found existing installation: thinc 7.4.0\n",
            "    Uninstalling thinc-7.4.0:\n",
            "      Successfully uninstalled thinc-7.4.0\n",
            "  Attempting uninstall: spacy\n",
            "    Found existing installation: spacy 2.2.4\n",
            "    Uninstalling spacy-2.2.4:\n",
            "      Successfully uninstalled spacy-2.2.4\n",
            "Successfully installed catalogue-2.0.6 pathy-0.6.0 pydantic-1.8.2 spacy-3.1.2 spacy-legacy-3.0.8 srsly-2.4.1 thinc-8.0.8 typer-0.3.2\n"
          ],
          "name": "stdout"
        }
      ]
    },
    {
      "cell_type": "code",
      "metadata": {
        "id": "h63eNr1Pwhxt",
        "colab": {
          "base_uri": "https://localhost:8080/"
        },
        "outputId": "adee4248-25c3-481a-b583-2ac901ae2290"
      },
      "source": [
        "%tensorflow_version 2.x\n",
        "import tensorflow as tf\n",
        "device_name = tf.test.gpu_device_name()\n",
        "if device_name != '/device:GPU:0':\n",
        "  raise SystemError('GPU device not found')\n",
        "print('Found GPU at: {}'.format(device_name))\n",
        "\n",
        "import timeit"
      ],
      "execution_count": 9,
      "outputs": [
        {
          "output_type": "stream",
          "text": [
            "Found GPU at: /device:GPU:0\n"
          ],
          "name": "stdout"
        }
      ]
    },
    {
      "cell_type": "code",
      "metadata": {
        "id": "-80evcekxslJ",
        "colab": {
          "base_uri": "https://localhost:8080/"
        },
        "outputId": "e3baa630-df18-475c-df56-fb4af3e71d80"
      },
      "source": [
        "%cd {repository}"
      ],
      "execution_count": 10,
      "outputs": [
        {
          "output_type": "stream",
          "text": [
            "/content/hackathon_RIIAA2021\n"
          ],
          "name": "stdout"
        }
      ]
    },
    {
      "cell_type": "code",
      "metadata": {
        "id": "APfsUDf4wNZW",
        "colab": {
          "base_uri": "https://localhost:8080/"
        },
        "outputId": "9a1464b7-f68b-4c16-84b0-0188bfbbd369"
      },
      "source": [
        "import os\n",
        "import cv2\n",
        "import numpy as np\n",
        "import pytesseract\n",
        "import pandas as pd\n",
        "import json\n",
        "\n",
        "\n",
        "# Importamos el visualizador incluido en spacy\n",
        "from spacy import displacy\n",
        "from google.colab.patches import cv2_imshow\n",
        "from PIL import Image\n",
        "from skimage.transform import rotate\n",
        "from skimage.io import imread\n",
        "from skimage.color import rgb2gray\n",
        "\n",
        "from busquedadesaparecidos.ocr.procesamiento_imagen import escala_grises, eliminar_ruido, skew_angle_hough_transform\n",
        "from busquedadesaparecidos.utils.limpieza_texto import quitar_caracteres_especiales, quitar_nonascii, quitar_stopwords, convierte_minusculas, renombrar_clases_spacy\n",
        "from busquedadesaparecidos.ner.busqueda_expediente import encontrar_expediente, convertir_texto_exp_dataframe\n",
        "from busquedadesaparecidos.ner.spacy import obtener_entidades, guardar_entidades_en_dataframe\n",
        "from busquedadesaparecidos.ner.similar_words import TargetWords\n",
        "\n",
        "\n",
        "# Importamos spacy y el modelo en español\n",
        "import spacy\n",
        "nlp = spacy.load(\"es_core_news_lg\")\n",
        "\n"
      ],
      "execution_count": 11,
      "outputs": [
        {
          "output_type": "stream",
          "text": [
            "[nltk_data] Downloading package punkt to /root/nltk_data...\n",
            "[nltk_data]   Unzipping tokenizers/punkt.zip.\n",
            "\u001b[38;5;2m✔ Download and installation successful\u001b[0m\n",
            "You can now load the package via spacy.load('es_core_news_lg')\n",
            "[nltk_data] Downloading package punkt to /root/nltk_data...\n",
            "[nltk_data]   Package punkt is already up-to-date!\n",
            "[nltk_data] Downloading package stopwords to /root/nltk_data...\n",
            "[nltk_data]   Unzipping corpora/stopwords.zip.\n"
          ],
          "name": "stdout"
        }
      ]
    },
    {
      "cell_type": "markdown",
      "metadata": {
        "id": "ZuI8-RHfmlW7"
      },
      "source": [
        "# Lectura de un directorio"
      ]
    },
    {
      "cell_type": "code",
      "metadata": {
        "id": "bTo0dQkXmkq-",
        "colab": {
          "base_uri": "https://localhost:8080/"
        },
        "outputId": "8792124f-72b7-4936-d5f4-7dfabf64096b"
      },
      "source": [
        "folder_list=os.listdir(in_dir)\n",
        "\n",
        "reto_2b_mayus = pd.DataFrame()\n",
        "reto_2b_minus = pd.DataFrame()\n",
        "reto_2a = pd.DataFrame() \n",
        "df_target_words_gral = pd.DataFrame()\n",
        "\n",
        "for folders, sub_folders, file in os.walk(in_dir):\n",
        "    for name in file:\n",
        "        # Buscamos los formatos que terminan en png, jpg, jpeg dentro del directorio\n",
        "        if name.lower().endswith((\".jpg\",\".png\",\".jpeg\")):\n",
        "          path = \"{}/{}\".format(in_dir, name)\n",
        "          print(\"=\"*100)\n",
        "          print(\"Analizando archivo {}\".format(path))\n",
        "          file_name, file_extension = os.path.splitext(path)\n",
        "          print(\"Iniciando procesamiento de imagen\")\n",
        "          # Leemos la imagen\n",
        "          image = rgb2gray(imread(path))\n",
        "          print(\"Revisando si la imagen necesita rotación\")\n",
        "          # Utilizamos hough lines por si necesitamos rotación\n",
        "          image_rotate = rotate(image, skew_angle_hough_transform(image), cval=1)\n",
        "          image = cv2.normalize(src= image_rotate, dst=None, alpha=0, beta=255, norm_type=cv2.NORM_MINMAX, dtype=cv2.CV_8U)\n",
        "          im_rotada = Image.fromarray(image)\n",
        "          # Se guarda temporalmente en un archivo\n",
        "          im_rotada.save('rotada{}'.format(file_extension))\n",
        "          imagen_rotada = cv2.imread('rotada{}'.format(file_extension))\n",
        "\n",
        "          # Iniciamos con la eliminación de ruido\n",
        "          gray_img = escala_grises(imagen_rotada)\n",
        "          imagen_sin_ruido = eliminar_ruido(gray_img)\n",
        "\n",
        "          im = Image.fromarray(imagen_sin_ruido)\n",
        "          save_path = \"gray{}\".format(file_extension)\n",
        "          im.save(save_path)\n",
        "\n",
        "          # utilizamos la paquetería de binarize\n",
        "          !python binarize/binarize.py -imgpath \"{save_path}\" -save out_test\"{file_extension}\"\n",
        "          \n",
        "          img = cv2.imread('out_test{}'.format(file_extension))\n",
        "          kernel = np.ones((2, 2),np.uint8)\n",
        "          closing = cv2.morphologyEx(img, cv2.MORPH_CLOSE, kernel)\n",
        "          dilation = cv2.erode(closing, kernel,iterations = 1)\n",
        "          print(\"Procesamiento de imagen terminada\")\n",
        "\n",
        "          print(\"Iniciando OCR\")\n",
        "          # Utilizamos pytesseract para obtener el texto de la imagen\n",
        "          texto_extraido = pytesseract.image_to_string(dilation)\n",
        "          print(\"OCR terminado\")\n",
        "\n",
        "\n",
        "          if texto_extraido is None:\n",
        "            print(\"No se encontró texto en {}\".format(path))\n",
        "          else:\n",
        "            print(\"Iniciando análisis de similitudes\")\n",
        "            # Se buscan similitudes \n",
        "            tw_prosecuted = TargetWords(texto_extraido, 'prosecuted')\n",
        "            tw_organization = TargetWords(texto_extraido, 'organization')\n",
        "            tw_states = TargetWords(texto_extraido, 'state')\n",
        "\n",
        "            json_prosecuted = json.dumps(tw_prosecuted.results)\n",
        "            json_organization = json.dumps(tw_organization.results)\n",
        "            json_states = json.dumps(tw_states.results)\n",
        "\n",
        "            df_target_words = pd.DataFrame([(json_prosecuted, json_organization, json_states, path)], \n",
        "                                           columns=['personas', 'organizaciones', 'estados', 'filename'])\n",
        "            \n",
        "            df_target_words_gral = pd.concat([df_target_words_gral, df_target_words])\n",
        "\n",
        "\n",
        "            print(\"Iniciando limpieza de texto\")\n",
        "            # Se limpia\n",
        "            texto_limpio = quitar_caracteres_especiales(texto_extraido)\n",
        "            texto_limpio = quitar_nonascii(texto_limpio)\n",
        "            texto_limpio = quitar_stopwords(texto_limpio)\n",
        "            texto_limpio_minusculas = convierte_minusculas(texto_limpio)\n",
        "            print(\"Limpieza de texto terminada\")\n",
        "            print(\"Iniciando búsqueda de expediente\")\n",
        "            exp = encontrar_expediente(texto_limpio_minusculas)\n",
        "            print(exp)\n",
        "            df_exp = convertir_texto_exp_dataframe(path, exp, texto_limpio_minusculas)\n",
        "            reto_2a = pd.concat([reto_2a, df_exp])\n",
        "            print(\"Búsqueda de expediente finalizada\")\n",
        "            \n",
        "            print(\"Iniciando clasificación de entidades\")\n",
        "            #doc_mayus = obtener_entidades(texto_limpio)\n",
        "            #df_mayus = guardar_entidades_en_dataframe(doc_mayus, path)\n",
        "            #reto_2b_mayus = pd.concat([reto_2b_mayus, df_mayus])\n",
        "\n",
        "            doc_minus = obtener_entidades(texto_limpio_minusculas)\n",
        "            df_minus = guardar_entidades_en_dataframe(doc_minus, path)\n",
        "            reto_2b_minus = pd.concat([reto_2b_minus, df_minus])\n",
        "            print(\"Clasificación de entidades finalizada\")\n",
        "\n",
        "\n",
        "#reto_2b_mayus = renombrar_clases_spacy(reto_2b_mayus)\n",
        "reto_2b_minus = renombrar_clases_spacy(reto_2b_minus)\n",
        "\n",
        "reto_2a.to_csv(\"{}/reto_2a.csv\".format(output_dir_path))\n",
        "#reto_2b_mayus.to_csv(\"{}/reto_2b_mayus.csv\".format(output_dir_path))\n",
        "reto_2b_minus.to_csv(\"{}/reto_2b.csv\".format(output_dir_path))\n",
        "df_target_words_gral.to_csv('{}/similitud.csv'.format(output_dir_path))\n"
      ],
      "execution_count": null,
      "outputs": [
        {
          "output_type": "stream",
          "text": [
            "====================================================================================================\n",
            "Analizando archivo /content/drive/MyDrive/Datos - Hackathon JusticIA/Evaluacion/Reto2/Ficheros_ACNR_militantes_Olea_Castaneyra_Rafel_Olea_Castaneyra_Rafael,_ACNR-19-.JPG\n",
            "Iniciando procesamiento de imagen\n",
            "Revisando si la imagen necesita rotación\n",
            "[-0.61858396]\n",
            "2021-08-23 14:44:37.117434: I tensorflow/stream_executor/cuda/cuda_gpu_executor.cc:937] successful NUMA node read from SysFS had negative value (-1), but there must be at least one NUMA node, so returning NUMA node zero\n",
            "2021-08-23 14:44:37.129287: I tensorflow/stream_executor/cuda/cuda_gpu_executor.cc:937] successful NUMA node read from SysFS had negative value (-1), but there must be at least one NUMA node, so returning NUMA node zero\n",
            "2021-08-23 14:44:37.130099: I tensorflow/stream_executor/cuda/cuda_gpu_executor.cc:937] successful NUMA node read from SysFS had negative value (-1), but there must be at least one NUMA node, so returning NUMA node zero\n",
            "2021-08-23 14:44:37.617579: I tensorflow/stream_executor/cuda/cuda_gpu_executor.cc:937] successful NUMA node read from SysFS had negative value (-1), but there must be at least one NUMA node, so returning NUMA node zero\n",
            "2021-08-23 14:44:37.618454: I tensorflow/stream_executor/cuda/cuda_gpu_executor.cc:937] successful NUMA node read from SysFS had negative value (-1), but there must be at least one NUMA node, so returning NUMA node zero\n",
            "2021-08-23 14:44:37.619253: I tensorflow/stream_executor/cuda/cuda_gpu_executor.cc:937] successful NUMA node read from SysFS had negative value (-1), but there must be at least one NUMA node, so returning NUMA node zero\n",
            "2021-08-23 14:44:37.620081: I tensorflow/core/common_runtime/gpu/gpu_device.cc:1510] Created device /job:localhost/replica:0/task:0/device:GPU:0 with 10699 MB memory:  -> device: 0, name: Tesla K80, pci bus id: 0000:00:04.0, compute capability: 3.7\n",
            "2021-08-23 14:44:37.632762: I tensorflow/stream_executor/cuda/cuda_gpu_executor.cc:937] successful NUMA node read from SysFS had negative value (-1), but there must be at least one NUMA node, so returning NUMA node zero\n",
            "2021-08-23 14:44:37.633660: I tensorflow/stream_executor/cuda/cuda_gpu_executor.cc:937] successful NUMA node read from SysFS had negative value (-1), but there must be at least one NUMA node, so returning NUMA node zero\n",
            "2021-08-23 14:44:37.634466: I tensorflow/stream_executor/cuda/cuda_gpu_executor.cc:937] successful NUMA node read from SysFS had negative value (-1), but there must be at least one NUMA node, so returning NUMA node zero\n",
            "2021-08-23 14:44:37.635428: I tensorflow/stream_executor/cuda/cuda_gpu_executor.cc:937] successful NUMA node read from SysFS had negative value (-1), but there must be at least one NUMA node, so returning NUMA node zero\n",
            "2021-08-23 14:44:37.636260: I tensorflow/stream_executor/cuda/cuda_gpu_executor.cc:937] successful NUMA node read from SysFS had negative value (-1), but there must be at least one NUMA node, so returning NUMA node zero\n",
            "2021-08-23 14:44:37.637015: I tensorflow/stream_executor/cuda/cuda_gpu_executor.cc:937] successful NUMA node read from SysFS had negative value (-1), but there must be at least one NUMA node, so returning NUMA node zero\n",
            "2021-08-23 14:44:37.637842: I tensorflow/stream_executor/cuda/cuda_gpu_executor.cc:937] successful NUMA node read from SysFS had negative value (-1), but there must be at least one NUMA node, so returning NUMA node zero\n",
            "2021-08-23 14:44:37.638613: I tensorflow/stream_executor/cuda/cuda_gpu_executor.cc:937] successful NUMA node read from SysFS had negative value (-1), but there must be at least one NUMA node, so returning NUMA node zero\n",
            "2021-08-23 14:44:37.639296: I tensorflow/core/common_runtime/gpu/gpu_device.cc:1510] Created device /job:localhost/replica:0/task:0/device:GPU:0 with 10699 MB memory:  -> device: 0, name: Tesla K80, pci bus id: 0000:00:04.0, compute capability: 3.7\n",
            "2021-08-23 14:44:38.617812: I tensorflow/compiler/mlir/mlir_graph_optimization_pass.cc:185] None of the MLIR Optimization Passes are enabled (registered 2)\n",
            "2021-08-23 14:44:39.147305: I tensorflow/stream_executor/cuda/cuda_dnn.cc:369] Loaded cuDNN version 8004\n",
            "Time: 17.395 seconds\n",
            "Procesamiento de imagen terminada\n",
            "Iniciando OCR\n",
            "OCR terminado\n",
            "Iniciando análisis de similitudes\n",
            "Iniciando limpieza de texto\n",
            "Limpieza de texto terminada\n",
            "Iniciando búsqueda de expediente\n",
            "xp-11-240-7-9-\n",
            "Búsqueda de expediente finalizada\n",
            "Iniciando clasificación de entidades\n",
            "Clasificación de entidades finalizada\n",
            "====================================================================================================\n",
            "Analizando archivo /content/drive/MyDrive/Datos - Hackathon JusticIA/Evaluacion/Reto2/Ficheros_Detenidos_Desaparecidos_Morales_Lopez_Delia_Morales_Lopez_Delia-23-.JPG\n",
            "Iniciando procesamiento de imagen\n",
            "Revisando si la imagen necesita rotación\n",
            "[-0.04562616]\n",
            "2021-08-23 14:45:47.892400: I tensorflow/stream_executor/cuda/cuda_gpu_executor.cc:937] successful NUMA node read from SysFS had negative value (-1), but there must be at least one NUMA node, so returning NUMA node zero\n",
            "2021-08-23 14:45:47.901072: I tensorflow/stream_executor/cuda/cuda_gpu_executor.cc:937] successful NUMA node read from SysFS had negative value (-1), but there must be at least one NUMA node, so returning NUMA node zero\n",
            "2021-08-23 14:45:47.901778: I tensorflow/stream_executor/cuda/cuda_gpu_executor.cc:937] successful NUMA node read from SysFS had negative value (-1), but there must be at least one NUMA node, so returning NUMA node zero\n",
            "2021-08-23 14:45:48.363850: I tensorflow/stream_executor/cuda/cuda_gpu_executor.cc:937] successful NUMA node read from SysFS had negative value (-1), but there must be at least one NUMA node, so returning NUMA node zero\n",
            "2021-08-23 14:45:48.364676: I tensorflow/stream_executor/cuda/cuda_gpu_executor.cc:937] successful NUMA node read from SysFS had negative value (-1), but there must be at least one NUMA node, so returning NUMA node zero\n",
            "2021-08-23 14:45:48.365448: I tensorflow/stream_executor/cuda/cuda_gpu_executor.cc:937] successful NUMA node read from SysFS had negative value (-1), but there must be at least one NUMA node, so returning NUMA node zero\n",
            "2021-08-23 14:45:48.366203: I tensorflow/core/common_runtime/gpu/gpu_device.cc:1510] Created device /job:localhost/replica:0/task:0/device:GPU:0 with 10699 MB memory:  -> device: 0, name: Tesla K80, pci bus id: 0000:00:04.0, compute capability: 3.7\n",
            "2021-08-23 14:45:48.379498: I tensorflow/stream_executor/cuda/cuda_gpu_executor.cc:937] successful NUMA node read from SysFS had negative value (-1), but there must be at least one NUMA node, so returning NUMA node zero\n",
            "2021-08-23 14:45:48.380363: I tensorflow/stream_executor/cuda/cuda_gpu_executor.cc:937] successful NUMA node read from SysFS had negative value (-1), but there must be at least one NUMA node, so returning NUMA node zero\n",
            "2021-08-23 14:45:48.381068: I tensorflow/stream_executor/cuda/cuda_gpu_executor.cc:937] successful NUMA node read from SysFS had negative value (-1), but there must be at least one NUMA node, so returning NUMA node zero\n",
            "2021-08-23 14:45:48.382100: I tensorflow/stream_executor/cuda/cuda_gpu_executor.cc:937] successful NUMA node read from SysFS had negative value (-1), but there must be at least one NUMA node, so returning NUMA node zero\n",
            "2021-08-23 14:45:48.382862: I tensorflow/stream_executor/cuda/cuda_gpu_executor.cc:937] successful NUMA node read from SysFS had negative value (-1), but there must be at least one NUMA node, so returning NUMA node zero\n",
            "2021-08-23 14:45:48.383553: I tensorflow/stream_executor/cuda/cuda_gpu_executor.cc:937] successful NUMA node read from SysFS had negative value (-1), but there must be at least one NUMA node, so returning NUMA node zero\n",
            "2021-08-23 14:45:48.384397: I tensorflow/stream_executor/cuda/cuda_gpu_executor.cc:937] successful NUMA node read from SysFS had negative value (-1), but there must be at least one NUMA node, so returning NUMA node zero\n",
            "2021-08-23 14:45:48.385140: I tensorflow/stream_executor/cuda/cuda_gpu_executor.cc:937] successful NUMA node read from SysFS had negative value (-1), but there must be at least one NUMA node, so returning NUMA node zero\n",
            "2021-08-23 14:45:48.385786: I tensorflow/core/common_runtime/gpu/gpu_device.cc:1510] Created device /job:localhost/replica:0/task:0/device:GPU:0 with 10699 MB memory:  -> device: 0, name: Tesla K80, pci bus id: 0000:00:04.0, compute capability: 3.7\n",
            "2021-08-23 14:45:49.046170: I tensorflow/compiler/mlir/mlir_graph_optimization_pass.cc:185] None of the MLIR Optimization Passes are enabled (registered 2)\n",
            "2021-08-23 14:45:49.560780: I tensorflow/stream_executor/cuda/cuda_dnn.cc:369] Loaded cuDNN version 8004\n",
            "Time: 5.508 seconds\n",
            "Procesamiento de imagen terminada\n",
            "Iniciando OCR\n",
            "OCR terminado\n",
            "Iniciando análisis de similitudes\n",
            "Iniciando limpieza de texto\n",
            "Limpieza de texto terminada\n",
            "Iniciando búsqueda de expediente\n",
            "No encontrado\n",
            "Búsqueda de expediente finalizada\n",
            "Iniciando clasificación de entidades\n",
            "Clasificación de entidades finalizada\n",
            "====================================================================================================\n",
            "Analizando archivo /content/drive/MyDrive/Datos - Hackathon JusticIA/Evaluacion/Reto2/Ficheros_UAG_76-11-16_a_77-03-19_UAG,_fichas-113-.JPG\n",
            "Iniciando procesamiento de imagen\n",
            "Revisando si la imagen necesita rotación\n",
            "[-0.61858396]\n",
            "2021-08-23 14:46:33.065359: I tensorflow/stream_executor/cuda/cuda_gpu_executor.cc:937] successful NUMA node read from SysFS had negative value (-1), but there must be at least one NUMA node, so returning NUMA node zero\n",
            "2021-08-23 14:46:33.074178: I tensorflow/stream_executor/cuda/cuda_gpu_executor.cc:937] successful NUMA node read from SysFS had negative value (-1), but there must be at least one NUMA node, so returning NUMA node zero\n",
            "2021-08-23 14:46:33.074992: I tensorflow/stream_executor/cuda/cuda_gpu_executor.cc:937] successful NUMA node read from SysFS had negative value (-1), but there must be at least one NUMA node, so returning NUMA node zero\n",
            "2021-08-23 14:46:33.542236: I tensorflow/stream_executor/cuda/cuda_gpu_executor.cc:937] successful NUMA node read from SysFS had negative value (-1), but there must be at least one NUMA node, so returning NUMA node zero\n",
            "2021-08-23 14:46:33.543241: I tensorflow/stream_executor/cuda/cuda_gpu_executor.cc:937] successful NUMA node read from SysFS had negative value (-1), but there must be at least one NUMA node, so returning NUMA node zero\n",
            "2021-08-23 14:46:33.544582: I tensorflow/stream_executor/cuda/cuda_gpu_executor.cc:937] successful NUMA node read from SysFS had negative value (-1), but there must be at least one NUMA node, so returning NUMA node zero\n",
            "2021-08-23 14:46:33.545641: I tensorflow/core/common_runtime/gpu/gpu_device.cc:1510] Created device /job:localhost/replica:0/task:0/device:GPU:0 with 10699 MB memory:  -> device: 0, name: Tesla K80, pci bus id: 0000:00:04.0, compute capability: 3.7\n",
            "2021-08-23 14:46:33.564727: I tensorflow/stream_executor/cuda/cuda_gpu_executor.cc:937] successful NUMA node read from SysFS had negative value (-1), but there must be at least one NUMA node, so returning NUMA node zero\n",
            "2021-08-23 14:46:33.565554: I tensorflow/stream_executor/cuda/cuda_gpu_executor.cc:937] successful NUMA node read from SysFS had negative value (-1), but there must be at least one NUMA node, so returning NUMA node zero\n",
            "2021-08-23 14:46:33.566242: I tensorflow/stream_executor/cuda/cuda_gpu_executor.cc:937] successful NUMA node read from SysFS had negative value (-1), but there must be at least one NUMA node, so returning NUMA node zero\n",
            "2021-08-23 14:46:33.567311: I tensorflow/stream_executor/cuda/cuda_gpu_executor.cc:937] successful NUMA node read from SysFS had negative value (-1), but there must be at least one NUMA node, so returning NUMA node zero\n",
            "2021-08-23 14:46:33.568272: I tensorflow/stream_executor/cuda/cuda_gpu_executor.cc:937] successful NUMA node read from SysFS had negative value (-1), but there must be at least one NUMA node, so returning NUMA node zero\n",
            "2021-08-23 14:46:33.569038: I tensorflow/stream_executor/cuda/cuda_gpu_executor.cc:937] successful NUMA node read from SysFS had negative value (-1), but there must be at least one NUMA node, so returning NUMA node zero\n",
            "2021-08-23 14:46:33.569881: I tensorflow/stream_executor/cuda/cuda_gpu_executor.cc:937] successful NUMA node read from SysFS had negative value (-1), but there must be at least one NUMA node, so returning NUMA node zero\n",
            "2021-08-23 14:46:33.570685: I tensorflow/stream_executor/cuda/cuda_gpu_executor.cc:937] successful NUMA node read from SysFS had negative value (-1), but there must be at least one NUMA node, so returning NUMA node zero\n",
            "2021-08-23 14:46:33.571414: I tensorflow/core/common_runtime/gpu/gpu_device.cc:1510] Created device /job:localhost/replica:0/task:0/device:GPU:0 with 10699 MB memory:  -> device: 0, name: Tesla K80, pci bus id: 0000:00:04.0, compute capability: 3.7\n",
            "2021-08-23 14:46:34.226085: I tensorflow/compiler/mlir/mlir_graph_optimization_pass.cc:185] None of the MLIR Optimization Passes are enabled (registered 2)\n",
            "2021-08-23 14:46:34.762386: I tensorflow/stream_executor/cuda/cuda_dnn.cc:369] Loaded cuDNN version 8004\n",
            "Time: 5.601 seconds\n",
            "Procesamiento de imagen terminada\n",
            "Iniciando OCR\n",
            "OCR terminado\n",
            "Iniciando análisis de similitudes\n",
            "Iniciando limpieza de texto\n",
            "Limpieza de texto terminada\n",
            "Iniciando búsqueda de expediente\n",
            "No encontrado\n",
            "Búsqueda de expediente finalizada\n",
            "Iniciando clasificación de entidades\n",
            "Clasificación de entidades finalizada\n",
            "====================================================================================================\n",
            "Analizando archivo /content/drive/MyDrive/Datos - Hackathon JusticIA/Evaluacion/Reto2/Ficheros_UAG_73-10-29_a_73-12-07_UAG,_fichas-134-.JPG\n",
            "Iniciando procesamiento de imagen\n",
            "Revisando si la imagen necesita rotación\n",
            "[1.10028943]\n",
            "2021-08-23 14:47:31.960191: I tensorflow/stream_executor/cuda/cuda_gpu_executor.cc:937] successful NUMA node read from SysFS had negative value (-1), but there must be at least one NUMA node, so returning NUMA node zero\n",
            "2021-08-23 14:47:31.969374: I tensorflow/stream_executor/cuda/cuda_gpu_executor.cc:937] successful NUMA node read from SysFS had negative value (-1), but there must be at least one NUMA node, so returning NUMA node zero\n",
            "2021-08-23 14:47:31.970603: I tensorflow/stream_executor/cuda/cuda_gpu_executor.cc:937] successful NUMA node read from SysFS had negative value (-1), but there must be at least one NUMA node, so returning NUMA node zero\n",
            "2021-08-23 14:47:32.449571: I tensorflow/stream_executor/cuda/cuda_gpu_executor.cc:937] successful NUMA node read from SysFS had negative value (-1), but there must be at least one NUMA node, so returning NUMA node zero\n",
            "2021-08-23 14:47:32.450447: I tensorflow/stream_executor/cuda/cuda_gpu_executor.cc:937] successful NUMA node read from SysFS had negative value (-1), but there must be at least one NUMA node, so returning NUMA node zero\n",
            "2021-08-23 14:47:32.451220: I tensorflow/stream_executor/cuda/cuda_gpu_executor.cc:937] successful NUMA node read from SysFS had negative value (-1), but there must be at least one NUMA node, so returning NUMA node zero\n",
            "2021-08-23 14:47:32.451966: I tensorflow/core/common_runtime/gpu/gpu_device.cc:1510] Created device /job:localhost/replica:0/task:0/device:GPU:0 with 10699 MB memory:  -> device: 0, name: Tesla K80, pci bus id: 0000:00:04.0, compute capability: 3.7\n",
            "2021-08-23 14:47:32.464523: I tensorflow/stream_executor/cuda/cuda_gpu_executor.cc:937] successful NUMA node read from SysFS had negative value (-1), but there must be at least one NUMA node, so returning NUMA node zero\n",
            "2021-08-23 14:47:32.465337: I tensorflow/stream_executor/cuda/cuda_gpu_executor.cc:937] successful NUMA node read from SysFS had negative value (-1), but there must be at least one NUMA node, so returning NUMA node zero\n",
            "2021-08-23 14:47:32.466084: I tensorflow/stream_executor/cuda/cuda_gpu_executor.cc:937] successful NUMA node read from SysFS had negative value (-1), but there must be at least one NUMA node, so returning NUMA node zero\n",
            "2021-08-23 14:47:32.467056: I tensorflow/stream_executor/cuda/cuda_gpu_executor.cc:937] successful NUMA node read from SysFS had negative value (-1), but there must be at least one NUMA node, so returning NUMA node zero\n",
            "2021-08-23 14:47:32.467958: I tensorflow/stream_executor/cuda/cuda_gpu_executor.cc:937] successful NUMA node read from SysFS had negative value (-1), but there must be at least one NUMA node, so returning NUMA node zero\n",
            "2021-08-23 14:47:32.468714: I tensorflow/stream_executor/cuda/cuda_gpu_executor.cc:937] successful NUMA node read from SysFS had negative value (-1), but there must be at least one NUMA node, so returning NUMA node zero\n",
            "2021-08-23 14:47:32.469534: I tensorflow/stream_executor/cuda/cuda_gpu_executor.cc:937] successful NUMA node read from SysFS had negative value (-1), but there must be at least one NUMA node, so returning NUMA node zero\n",
            "2021-08-23 14:47:32.470296: I tensorflow/stream_executor/cuda/cuda_gpu_executor.cc:937] successful NUMA node read from SysFS had negative value (-1), but there must be at least one NUMA node, so returning NUMA node zero\n",
            "2021-08-23 14:47:32.471015: I tensorflow/core/common_runtime/gpu/gpu_device.cc:1510] Created device /job:localhost/replica:0/task:0/device:GPU:0 with 10699 MB memory:  -> device: 0, name: Tesla K80, pci bus id: 0000:00:04.0, compute capability: 3.7\n",
            "2021-08-23 14:47:33.233312: I tensorflow/compiler/mlir/mlir_graph_optimization_pass.cc:185] None of the MLIR Optimization Passes are enabled (registered 2)\n",
            "2021-08-23 14:47:33.751949: I tensorflow/stream_executor/cuda/cuda_dnn.cc:369] Loaded cuDNN version 8004\n",
            "Time: 18.898 seconds\n",
            "Procesamiento de imagen terminada\n",
            "Iniciando OCR\n",
            "OCR terminado\n",
            "Iniciando análisis de similitudes\n",
            "Iniciando limpieza de texto\n",
            "Limpieza de texto terminada\n",
            "Iniciando búsqueda de expediente\n",
            "No encontrado\n",
            "Búsqueda de expediente finalizada\n",
            "Iniciando clasificación de entidades\n",
            "Clasificación de entidades finalizada\n",
            "====================================================================================================\n",
            "Analizando archivo /content/drive/MyDrive/Datos - Hackathon JusticIA/Evaluacion/Reto2/Ficheros_Brigada_Campesina_de_Ajusticiamiento_BCA_Brigada_Campesina_de_Ajusticiamiento-79-.JPG\n",
            "Iniciando procesamiento de imagen\n",
            "Revisando si la imagen necesita rotación\n",
            "[-0.04562616]\n",
            "2021-08-23 14:48:21.568198: I tensorflow/stream_executor/cuda/cuda_gpu_executor.cc:937] successful NUMA node read from SysFS had negative value (-1), but there must be at least one NUMA node, so returning NUMA node zero\n",
            "2021-08-23 14:48:21.576916: I tensorflow/stream_executor/cuda/cuda_gpu_executor.cc:937] successful NUMA node read from SysFS had negative value (-1), but there must be at least one NUMA node, so returning NUMA node zero\n",
            "2021-08-23 14:48:21.577699: I tensorflow/stream_executor/cuda/cuda_gpu_executor.cc:937] successful NUMA node read from SysFS had negative value (-1), but there must be at least one NUMA node, so returning NUMA node zero\n",
            "2021-08-23 14:48:22.041001: I tensorflow/stream_executor/cuda/cuda_gpu_executor.cc:937] successful NUMA node read from SysFS had negative value (-1), but there must be at least one NUMA node, so returning NUMA node zero\n",
            "2021-08-23 14:48:22.041819: I tensorflow/stream_executor/cuda/cuda_gpu_executor.cc:937] successful NUMA node read from SysFS had negative value (-1), but there must be at least one NUMA node, so returning NUMA node zero\n",
            "2021-08-23 14:48:22.042617: I tensorflow/stream_executor/cuda/cuda_gpu_executor.cc:937] successful NUMA node read from SysFS had negative value (-1), but there must be at least one NUMA node, so returning NUMA node zero\n",
            "2021-08-23 14:48:22.043367: I tensorflow/core/common_runtime/gpu/gpu_device.cc:1510] Created device /job:localhost/replica:0/task:0/device:GPU:0 with 10699 MB memory:  -> device: 0, name: Tesla K80, pci bus id: 0000:00:04.0, compute capability: 3.7\n",
            "2021-08-23 14:48:22.056530: I tensorflow/stream_executor/cuda/cuda_gpu_executor.cc:937] successful NUMA node read from SysFS had negative value (-1), but there must be at least one NUMA node, so returning NUMA node zero\n",
            "2021-08-23 14:48:22.057362: I tensorflow/stream_executor/cuda/cuda_gpu_executor.cc:937] successful NUMA node read from SysFS had negative value (-1), but there must be at least one NUMA node, so returning NUMA node zero\n",
            "2021-08-23 14:48:22.058105: I tensorflow/stream_executor/cuda/cuda_gpu_executor.cc:937] successful NUMA node read from SysFS had negative value (-1), but there must be at least one NUMA node, so returning NUMA node zero\n",
            "2021-08-23 14:48:22.059067: I tensorflow/stream_executor/cuda/cuda_gpu_executor.cc:937] successful NUMA node read from SysFS had negative value (-1), but there must be at least one NUMA node, so returning NUMA node zero\n",
            "2021-08-23 14:48:22.059882: I tensorflow/stream_executor/cuda/cuda_gpu_executor.cc:937] successful NUMA node read from SysFS had negative value (-1), but there must be at least one NUMA node, so returning NUMA node zero\n",
            "2021-08-23 14:48:22.060646: I tensorflow/stream_executor/cuda/cuda_gpu_executor.cc:937] successful NUMA node read from SysFS had negative value (-1), but there must be at least one NUMA node, so returning NUMA node zero\n",
            "2021-08-23 14:48:22.061504: I tensorflow/stream_executor/cuda/cuda_gpu_executor.cc:937] successful NUMA node read from SysFS had negative value (-1), but there must be at least one NUMA node, so returning NUMA node zero\n",
            "2021-08-23 14:48:22.062261: I tensorflow/stream_executor/cuda/cuda_gpu_executor.cc:937] successful NUMA node read from SysFS had negative value (-1), but there must be at least one NUMA node, so returning NUMA node zero\n",
            "2021-08-23 14:48:22.062972: I tensorflow/core/common_runtime/gpu/gpu_device.cc:1510] Created device /job:localhost/replica:0/task:0/device:GPU:0 with 10699 MB memory:  -> device: 0, name: Tesla K80, pci bus id: 0000:00:04.0, compute capability: 3.7\n",
            "2021-08-23 14:48:22.864489: I tensorflow/compiler/mlir/mlir_graph_optimization_pass.cc:185] None of the MLIR Optimization Passes are enabled (registered 2)\n",
            "2021-08-23 14:48:23.375072: I tensorflow/stream_executor/cuda/cuda_dnn.cc:369] Loaded cuDNN version 8004\n",
            "Time: 17.015 seconds\n",
            "Procesamiento de imagen terminada\n",
            "Iniciando OCR\n",
            "OCR terminado\n",
            "Iniciando análisis de similitudes\n",
            "Iniciando limpieza de texto\n",
            "Limpieza de texto terminada\n",
            "Iniciando búsqueda de expediente\n",
            "No encontrado\n",
            "Búsqueda de expediente finalizada\n",
            "Iniciando clasificación de entidades\n",
            "Clasificación de entidades finalizada\n",
            "====================================================================================================\n",
            "Analizando archivo /content/drive/MyDrive/Datos - Hackathon JusticIA/Evaluacion/Reto2/Ficheros_Detenidos_Desaparecidos_Perez_Lopez_Martha_Perez_Lopez_Martha-21-.JPG\n",
            "Iniciando procesamiento de imagen\n",
            "Revisando si la imagen necesita rotación\n",
            "[-0.04562616]\n",
            "2021-08-23 14:48:56.065662: I tensorflow/stream_executor/cuda/cuda_gpu_executor.cc:937] successful NUMA node read from SysFS had negative value (-1), but there must be at least one NUMA node, so returning NUMA node zero\n",
            "2021-08-23 14:48:56.074219: I tensorflow/stream_executor/cuda/cuda_gpu_executor.cc:937] successful NUMA node read from SysFS had negative value (-1), but there must be at least one NUMA node, so returning NUMA node zero\n",
            "2021-08-23 14:48:56.075001: I tensorflow/stream_executor/cuda/cuda_gpu_executor.cc:937] successful NUMA node read from SysFS had negative value (-1), but there must be at least one NUMA node, so returning NUMA node zero\n",
            "2021-08-23 14:48:56.548221: I tensorflow/stream_executor/cuda/cuda_gpu_executor.cc:937] successful NUMA node read from SysFS had negative value (-1), but there must be at least one NUMA node, so returning NUMA node zero\n",
            "2021-08-23 14:48:56.549167: I tensorflow/stream_executor/cuda/cuda_gpu_executor.cc:937] successful NUMA node read from SysFS had negative value (-1), but there must be at least one NUMA node, so returning NUMA node zero\n",
            "2021-08-23 14:48:56.549945: I tensorflow/stream_executor/cuda/cuda_gpu_executor.cc:937] successful NUMA node read from SysFS had negative value (-1), but there must be at least one NUMA node, so returning NUMA node zero\n",
            "2021-08-23 14:48:56.550754: I tensorflow/core/common_runtime/gpu/gpu_device.cc:1510] Created device /job:localhost/replica:0/task:0/device:GPU:0 with 10699 MB memory:  -> device: 0, name: Tesla K80, pci bus id: 0000:00:04.0, compute capability: 3.7\n",
            "2021-08-23 14:48:56.564516: I tensorflow/stream_executor/cuda/cuda_gpu_executor.cc:937] successful NUMA node read from SysFS had negative value (-1), but there must be at least one NUMA node, so returning NUMA node zero\n",
            "2021-08-23 14:48:56.565362: I tensorflow/stream_executor/cuda/cuda_gpu_executor.cc:937] successful NUMA node read from SysFS had negative value (-1), but there must be at least one NUMA node, so returning NUMA node zero\n",
            "2021-08-23 14:48:56.566186: I tensorflow/stream_executor/cuda/cuda_gpu_executor.cc:937] successful NUMA node read from SysFS had negative value (-1), but there must be at least one NUMA node, so returning NUMA node zero\n",
            "2021-08-23 14:48:56.567143: I tensorflow/stream_executor/cuda/cuda_gpu_executor.cc:937] successful NUMA node read from SysFS had negative value (-1), but there must be at least one NUMA node, so returning NUMA node zero\n",
            "2021-08-23 14:48:56.567972: I tensorflow/stream_executor/cuda/cuda_gpu_executor.cc:937] successful NUMA node read from SysFS had negative value (-1), but there must be at least one NUMA node, so returning NUMA node zero\n",
            "2021-08-23 14:48:56.568742: I tensorflow/stream_executor/cuda/cuda_gpu_executor.cc:937] successful NUMA node read from SysFS had negative value (-1), but there must be at least one NUMA node, so returning NUMA node zero\n",
            "2021-08-23 14:48:56.569620: I tensorflow/stream_executor/cuda/cuda_gpu_executor.cc:937] successful NUMA node read from SysFS had negative value (-1), but there must be at least one NUMA node, so returning NUMA node zero\n",
            "2021-08-23 14:48:56.570394: I tensorflow/stream_executor/cuda/cuda_gpu_executor.cc:937] successful NUMA node read from SysFS had negative value (-1), but there must be at least one NUMA node, so returning NUMA node zero\n",
            "2021-08-23 14:48:56.571121: I tensorflow/core/common_runtime/gpu/gpu_device.cc:1510] Created device /job:localhost/replica:0/task:0/device:GPU:0 with 10699 MB memory:  -> device: 0, name: Tesla K80, pci bus id: 0000:00:04.0, compute capability: 3.7\n",
            "2021-08-23 14:48:57.367895: I tensorflow/compiler/mlir/mlir_graph_optimization_pass.cc:185] None of the MLIR Optimization Passes are enabled (registered 2)\n",
            "2021-08-23 14:48:57.877965: I tensorflow/stream_executor/cuda/cuda_dnn.cc:369] Loaded cuDNN version 8004\n",
            "Time: 18.152 seconds\n",
            "Procesamiento de imagen terminada\n",
            "Iniciando OCR\n",
            "OCR terminado\n",
            "Iniciando análisis de similitudes\n",
            "Iniciando limpieza de texto\n",
            "Limpieza de texto terminada\n",
            "Iniciando búsqueda de expediente\n",
            "No encontrado\n",
            "Búsqueda de expediente finalizada\n",
            "Iniciando clasificación de entidades\n",
            "Clasificación de entidades finalizada\n",
            "====================================================================================================\n",
            "Analizando archivo /content/drive/MyDrive/Datos - Hackathon JusticIA/Evaluacion/Reto2/Ficheros_FAR,_concentrado_general_FAR,_concentrado_general-157-.JPG\n",
            "Iniciando procesamiento de imagen\n",
            "Revisando si la imagen necesita rotación\n",
            "[-0.04562616]\n",
            "2021-08-23 14:49:36.634808: I tensorflow/stream_executor/cuda/cuda_gpu_executor.cc:937] successful NUMA node read from SysFS had negative value (-1), but there must be at least one NUMA node, so returning NUMA node zero\n",
            "2021-08-23 14:49:36.643233: I tensorflow/stream_executor/cuda/cuda_gpu_executor.cc:937] successful NUMA node read from SysFS had negative value (-1), but there must be at least one NUMA node, so returning NUMA node zero\n",
            "2021-08-23 14:49:36.644057: I tensorflow/stream_executor/cuda/cuda_gpu_executor.cc:937] successful NUMA node read from SysFS had negative value (-1), but there must be at least one NUMA node, so returning NUMA node zero\n",
            "2021-08-23 14:49:37.120961: I tensorflow/stream_executor/cuda/cuda_gpu_executor.cc:937] successful NUMA node read from SysFS had negative value (-1), but there must be at least one NUMA node, so returning NUMA node zero\n",
            "2021-08-23 14:49:37.121852: I tensorflow/stream_executor/cuda/cuda_gpu_executor.cc:937] successful NUMA node read from SysFS had negative value (-1), but there must be at least one NUMA node, so returning NUMA node zero\n",
            "2021-08-23 14:49:37.122685: I tensorflow/stream_executor/cuda/cuda_gpu_executor.cc:937] successful NUMA node read from SysFS had negative value (-1), but there must be at least one NUMA node, so returning NUMA node zero\n",
            "2021-08-23 14:49:37.123441: I tensorflow/core/common_runtime/gpu/gpu_device.cc:1510] Created device /job:localhost/replica:0/task:0/device:GPU:0 with 10699 MB memory:  -> device: 0, name: Tesla K80, pci bus id: 0000:00:04.0, compute capability: 3.7\n",
            "2021-08-23 14:49:37.138831: I tensorflow/stream_executor/cuda/cuda_gpu_executor.cc:937] successful NUMA node read from SysFS had negative value (-1), but there must be at least one NUMA node, so returning NUMA node zero\n",
            "2021-08-23 14:49:37.139775: I tensorflow/stream_executor/cuda/cuda_gpu_executor.cc:937] successful NUMA node read from SysFS had negative value (-1), but there must be at least one NUMA node, so returning NUMA node zero\n",
            "2021-08-23 14:49:37.140554: I tensorflow/stream_executor/cuda/cuda_gpu_executor.cc:937] successful NUMA node read from SysFS had negative value (-1), but there must be at least one NUMA node, so returning NUMA node zero\n",
            "2021-08-23 14:49:37.141557: I tensorflow/stream_executor/cuda/cuda_gpu_executor.cc:937] successful NUMA node read from SysFS had negative value (-1), but there must be at least one NUMA node, so returning NUMA node zero\n",
            "2021-08-23 14:49:37.142343: I tensorflow/stream_executor/cuda/cuda_gpu_executor.cc:937] successful NUMA node read from SysFS had negative value (-1), but there must be at least one NUMA node, so returning NUMA node zero\n",
            "2021-08-23 14:49:37.143091: I tensorflow/stream_executor/cuda/cuda_gpu_executor.cc:937] successful NUMA node read from SysFS had negative value (-1), but there must be at least one NUMA node, so returning NUMA node zero\n",
            "2021-08-23 14:49:37.143873: I tensorflow/stream_executor/cuda/cuda_gpu_executor.cc:937] successful NUMA node read from SysFS had negative value (-1), but there must be at least one NUMA node, so returning NUMA node zero\n",
            "2021-08-23 14:49:37.144628: I tensorflow/stream_executor/cuda/cuda_gpu_executor.cc:937] successful NUMA node read from SysFS had negative value (-1), but there must be at least one NUMA node, so returning NUMA node zero\n",
            "2021-08-23 14:49:37.145344: I tensorflow/core/common_runtime/gpu/gpu_device.cc:1510] Created device /job:localhost/replica:0/task:0/device:GPU:0 with 10699 MB memory:  -> device: 0, name: Tesla K80, pci bus id: 0000:00:04.0, compute capability: 3.7\n",
            "2021-08-23 14:49:37.834890: I tensorflow/compiler/mlir/mlir_graph_optimization_pass.cc:185] None of the MLIR Optimization Passes are enabled (registered 2)\n",
            "2021-08-23 14:49:38.346517: I tensorflow/stream_executor/cuda/cuda_dnn.cc:369] Loaded cuDNN version 8004\n",
            "Time: 9.539 seconds\n",
            "Procesamiento de imagen terminada\n",
            "Iniciando OCR\n",
            "OCR terminado\n",
            "Iniciando análisis de similitudes\n",
            "Iniciando limpieza de texto\n",
            "Limpieza de texto terminada\n",
            "Iniciando búsqueda de expediente\n",
            "No encontrado\n",
            "Búsqueda de expediente finalizada\n",
            "Iniciando clasificación de entidades\n",
            "Clasificación de entidades finalizada\n",
            "====================================================================================================\n",
            "Analizando archivo /content/drive/MyDrive/Datos - Hackathon JusticIA/Evaluacion/Reto2/Ficheros_PPUA_Fichas_PPUA,_Fichas-98-.JPG\n",
            "Iniciando procesamiento de imagen\n",
            "Revisando si la imagen necesita rotación\n",
            "[1.10028943]\n",
            "2021-08-23 14:50:44.365642: I tensorflow/stream_executor/cuda/cuda_gpu_executor.cc:937] successful NUMA node read from SysFS had negative value (-1), but there must be at least one NUMA node, so returning NUMA node zero\n",
            "2021-08-23 14:50:44.374578: I tensorflow/stream_executor/cuda/cuda_gpu_executor.cc:937] successful NUMA node read from SysFS had negative value (-1), but there must be at least one NUMA node, so returning NUMA node zero\n",
            "2021-08-23 14:50:44.375370: I tensorflow/stream_executor/cuda/cuda_gpu_executor.cc:937] successful NUMA node read from SysFS had negative value (-1), but there must be at least one NUMA node, so returning NUMA node zero\n",
            "2021-08-23 14:50:44.843080: I tensorflow/stream_executor/cuda/cuda_gpu_executor.cc:937] successful NUMA node read from SysFS had negative value (-1), but there must be at least one NUMA node, so returning NUMA node zero\n",
            "2021-08-23 14:50:44.843881: I tensorflow/stream_executor/cuda/cuda_gpu_executor.cc:937] successful NUMA node read from SysFS had negative value (-1), but there must be at least one NUMA node, so returning NUMA node zero\n",
            "2021-08-23 14:50:44.844681: I tensorflow/stream_executor/cuda/cuda_gpu_executor.cc:937] successful NUMA node read from SysFS had negative value (-1), but there must be at least one NUMA node, so returning NUMA node zero\n",
            "2021-08-23 14:50:44.845527: I tensorflow/core/common_runtime/gpu/gpu_device.cc:1510] Created device /job:localhost/replica:0/task:0/device:GPU:0 with 10699 MB memory:  -> device: 0, name: Tesla K80, pci bus id: 0000:00:04.0, compute capability: 3.7\n",
            "2021-08-23 14:50:44.859982: I tensorflow/stream_executor/cuda/cuda_gpu_executor.cc:937] successful NUMA node read from SysFS had negative value (-1), but there must be at least one NUMA node, so returning NUMA node zero\n",
            "2021-08-23 14:50:44.860823: I tensorflow/stream_executor/cuda/cuda_gpu_executor.cc:937] successful NUMA node read from SysFS had negative value (-1), but there must be at least one NUMA node, so returning NUMA node zero\n",
            "2021-08-23 14:50:44.861616: I tensorflow/stream_executor/cuda/cuda_gpu_executor.cc:937] successful NUMA node read from SysFS had negative value (-1), but there must be at least one NUMA node, so returning NUMA node zero\n",
            "2021-08-23 14:50:44.862552: I tensorflow/stream_executor/cuda/cuda_gpu_executor.cc:937] successful NUMA node read from SysFS had negative value (-1), but there must be at least one NUMA node, so returning NUMA node zero\n",
            "2021-08-23 14:50:44.863325: I tensorflow/stream_executor/cuda/cuda_gpu_executor.cc:937] successful NUMA node read from SysFS had negative value (-1), but there must be at least one NUMA node, so returning NUMA node zero\n",
            "2021-08-23 14:50:44.864089: I tensorflow/stream_executor/cuda/cuda_gpu_executor.cc:937] successful NUMA node read from SysFS had negative value (-1), but there must be at least one NUMA node, so returning NUMA node zero\n",
            "2021-08-23 14:50:44.864976: I tensorflow/stream_executor/cuda/cuda_gpu_executor.cc:937] successful NUMA node read from SysFS had negative value (-1), but there must be at least one NUMA node, so returning NUMA node zero\n",
            "2021-08-23 14:50:44.865761: I tensorflow/stream_executor/cuda/cuda_gpu_executor.cc:937] successful NUMA node read from SysFS had negative value (-1), but there must be at least one NUMA node, so returning NUMA node zero\n",
            "2021-08-23 14:50:44.866479: I tensorflow/core/common_runtime/gpu/gpu_device.cc:1510] Created device /job:localhost/replica:0/task:0/device:GPU:0 with 10699 MB memory:  -> device: 0, name: Tesla K80, pci bus id: 0000:00:04.0, compute capability: 3.7\n",
            "2021-08-23 14:50:45.623084: I tensorflow/compiler/mlir/mlir_graph_optimization_pass.cc:185] None of the MLIR Optimization Passes are enabled (registered 2)\n",
            "2021-08-23 14:50:46.141702: I tensorflow/stream_executor/cuda/cuda_dnn.cc:369] Loaded cuDNN version 8004\n",
            "Time: 18.398 seconds\n",
            "Procesamiento de imagen terminada\n",
            "Iniciando OCR\n",
            "OCR terminado\n",
            "Iniciando análisis de similitudes\n",
            "Iniciando limpieza de texto\n",
            "Limpieza de texto terminada\n",
            "Iniciando búsqueda de expediente\n",
            "No encontrado\n",
            "Búsqueda de expediente finalizada\n",
            "Iniciando clasificación de entidades\n",
            "Clasificación de entidades finalizada\n",
            "====================================================================================================\n",
            "Analizando archivo /content/drive/MyDrive/Datos - Hackathon JusticIA/Evaluacion/Reto2/Ficheros_Represores_Martinez_Adame_Arturo_Martinez_Adame_Arturo-31-.JPG\n",
            "Iniciando procesamiento de imagen\n",
            "Revisando si la imagen necesita rotación\n",
            "[-90.]\n",
            "2021-08-23 14:51:20.134850: I tensorflow/stream_executor/cuda/cuda_gpu_executor.cc:937] successful NUMA node read from SysFS had negative value (-1), but there must be at least one NUMA node, so returning NUMA node zero\n",
            "2021-08-23 14:51:20.143484: I tensorflow/stream_executor/cuda/cuda_gpu_executor.cc:937] successful NUMA node read from SysFS had negative value (-1), but there must be at least one NUMA node, so returning NUMA node zero\n",
            "2021-08-23 14:51:20.144303: I tensorflow/stream_executor/cuda/cuda_gpu_executor.cc:937] successful NUMA node read from SysFS had negative value (-1), but there must be at least one NUMA node, so returning NUMA node zero\n",
            "2021-08-23 14:51:20.613754: I tensorflow/stream_executor/cuda/cuda_gpu_executor.cc:937] successful NUMA node read from SysFS had negative value (-1), but there must be at least one NUMA node, so returning NUMA node zero\n",
            "2021-08-23 14:51:20.614598: I tensorflow/stream_executor/cuda/cuda_gpu_executor.cc:937] successful NUMA node read from SysFS had negative value (-1), but there must be at least one NUMA node, so returning NUMA node zero\n",
            "2021-08-23 14:51:20.615368: I tensorflow/stream_executor/cuda/cuda_gpu_executor.cc:937] successful NUMA node read from SysFS had negative value (-1), but there must be at least one NUMA node, so returning NUMA node zero\n",
            "2021-08-23 14:51:20.616065: I tensorflow/core/common_runtime/gpu/gpu_device.cc:1510] Created device /job:localhost/replica:0/task:0/device:GPU:0 with 10699 MB memory:  -> device: 0, name: Tesla K80, pci bus id: 0000:00:04.0, compute capability: 3.7\n",
            "2021-08-23 14:51:20.629085: I tensorflow/stream_executor/cuda/cuda_gpu_executor.cc:937] successful NUMA node read from SysFS had negative value (-1), but there must be at least one NUMA node, so returning NUMA node zero\n",
            "2021-08-23 14:51:20.629935: I tensorflow/stream_executor/cuda/cuda_gpu_executor.cc:937] successful NUMA node read from SysFS had negative value (-1), but there must be at least one NUMA node, so returning NUMA node zero\n",
            "2021-08-23 14:51:20.630728: I tensorflow/stream_executor/cuda/cuda_gpu_executor.cc:937] successful NUMA node read from SysFS had negative value (-1), but there must be at least one NUMA node, so returning NUMA node zero\n",
            "2021-08-23 14:51:20.631734: I tensorflow/stream_executor/cuda/cuda_gpu_executor.cc:937] successful NUMA node read from SysFS had negative value (-1), but there must be at least one NUMA node, so returning NUMA node zero\n",
            "2021-08-23 14:51:20.632615: I tensorflow/stream_executor/cuda/cuda_gpu_executor.cc:937] successful NUMA node read from SysFS had negative value (-1), but there must be at least one NUMA node, so returning NUMA node zero\n",
            "2021-08-23 14:51:20.633367: I tensorflow/stream_executor/cuda/cuda_gpu_executor.cc:937] successful NUMA node read from SysFS had negative value (-1), but there must be at least one NUMA node, so returning NUMA node zero\n",
            "2021-08-23 14:51:20.634183: I tensorflow/stream_executor/cuda/cuda_gpu_executor.cc:937] successful NUMA node read from SysFS had negative value (-1), but there must be at least one NUMA node, so returning NUMA node zero\n",
            "2021-08-23 14:51:20.634893: I tensorflow/stream_executor/cuda/cuda_gpu_executor.cc:937] successful NUMA node read from SysFS had negative value (-1), but there must be at least one NUMA node, so returning NUMA node zero\n",
            "2021-08-23 14:51:20.635591: I tensorflow/core/common_runtime/gpu/gpu_device.cc:1510] Created device /job:localhost/replica:0/task:0/device:GPU:0 with 10699 MB memory:  -> device: 0, name: Tesla K80, pci bus id: 0000:00:04.0, compute capability: 3.7\n",
            "2021-08-23 14:51:21.385637: I tensorflow/compiler/mlir/mlir_graph_optimization_pass.cc:185] None of the MLIR Optimization Passes are enabled (registered 2)\n",
            "2021-08-23 14:51:21.900219: I tensorflow/stream_executor/cuda/cuda_dnn.cc:369] Loaded cuDNN version 8004\n",
            "Time: 17.412 seconds\n",
            "Procesamiento de imagen terminada\n",
            "Iniciando OCR\n",
            "OCR terminado\n",
            "Iniciando análisis de similitudes\n",
            "Iniciando limpieza de texto\n",
            "Limpieza de texto terminada\n",
            "Iniciando búsqueda de expediente\n",
            "No encontrado\n",
            "Búsqueda de expediente finalizada\n",
            "Iniciando clasificación de entidades\n",
            "Clasificación de entidades finalizada\n",
            "====================================================================================================\n",
            "Analizando archivo /content/drive/MyDrive/Datos - Hackathon JusticIA/Evaluacion/Reto2/Ficheros_Union_Campesina_Independiente,_fichas_UCI,_fichas-2-.JPG\n",
            "Iniciando procesamiento de imagen\n",
            "Revisando si la imagen necesita rotación\n",
            "[1.10028943]\n",
            "2021-08-23 14:52:18.338064: I tensorflow/stream_executor/cuda/cuda_gpu_executor.cc:937] successful NUMA node read from SysFS had negative value (-1), but there must be at least one NUMA node, so returning NUMA node zero\n",
            "2021-08-23 14:52:18.346582: I tensorflow/stream_executor/cuda/cuda_gpu_executor.cc:937] successful NUMA node read from SysFS had negative value (-1), but there must be at least one NUMA node, so returning NUMA node zero\n",
            "2021-08-23 14:52:18.347361: I tensorflow/stream_executor/cuda/cuda_gpu_executor.cc:937] successful NUMA node read from SysFS had negative value (-1), but there must be at least one NUMA node, so returning NUMA node zero\n",
            "2021-08-23 14:52:18.828077: I tensorflow/stream_executor/cuda/cuda_gpu_executor.cc:937] successful NUMA node read from SysFS had negative value (-1), but there must be at least one NUMA node, so returning NUMA node zero\n",
            "2021-08-23 14:52:18.828895: I tensorflow/stream_executor/cuda/cuda_gpu_executor.cc:937] successful NUMA node read from SysFS had negative value (-1), but there must be at least one NUMA node, so returning NUMA node zero\n",
            "2021-08-23 14:52:18.829669: I tensorflow/stream_executor/cuda/cuda_gpu_executor.cc:937] successful NUMA node read from SysFS had negative value (-1), but there must be at least one NUMA node, so returning NUMA node zero\n",
            "2021-08-23 14:52:18.830467: I tensorflow/core/common_runtime/gpu/gpu_device.cc:1510] Created device /job:localhost/replica:0/task:0/device:GPU:0 with 10699 MB memory:  -> device: 0, name: Tesla K80, pci bus id: 0000:00:04.0, compute capability: 3.7\n",
            "2021-08-23 14:52:18.843388: I tensorflow/stream_executor/cuda/cuda_gpu_executor.cc:937] successful NUMA node read from SysFS had negative value (-1), but there must be at least one NUMA node, so returning NUMA node zero\n",
            "2021-08-23 14:52:18.844234: I tensorflow/stream_executor/cuda/cuda_gpu_executor.cc:937] successful NUMA node read from SysFS had negative value (-1), but there must be at least one NUMA node, so returning NUMA node zero\n",
            "2021-08-23 14:52:18.845006: I tensorflow/stream_executor/cuda/cuda_gpu_executor.cc:937] successful NUMA node read from SysFS had negative value (-1), but there must be at least one NUMA node, so returning NUMA node zero\n",
            "2021-08-23 14:52:18.845991: I tensorflow/stream_executor/cuda/cuda_gpu_executor.cc:937] successful NUMA node read from SysFS had negative value (-1), but there must be at least one NUMA node, so returning NUMA node zero\n",
            "2021-08-23 14:52:18.846755: I tensorflow/stream_executor/cuda/cuda_gpu_executor.cc:937] successful NUMA node read from SysFS had negative value (-1), but there must be at least one NUMA node, so returning NUMA node zero\n",
            "2021-08-23 14:52:18.847500: I tensorflow/stream_executor/cuda/cuda_gpu_executor.cc:937] successful NUMA node read from SysFS had negative value (-1), but there must be at least one NUMA node, so returning NUMA node zero\n",
            "2021-08-23 14:52:18.848288: I tensorflow/stream_executor/cuda/cuda_gpu_executor.cc:937] successful NUMA node read from SysFS had negative value (-1), but there must be at least one NUMA node, so returning NUMA node zero\n",
            "2021-08-23 14:52:18.849155: I tensorflow/stream_executor/cuda/cuda_gpu_executor.cc:937] successful NUMA node read from SysFS had negative value (-1), but there must be at least one NUMA node, so returning NUMA node zero\n",
            "2021-08-23 14:52:18.849930: I tensorflow/core/common_runtime/gpu/gpu_device.cc:1510] Created device /job:localhost/replica:0/task:0/device:GPU:0 with 10699 MB memory:  -> device: 0, name: Tesla K80, pci bus id: 0000:00:04.0, compute capability: 3.7\n",
            "2021-08-23 14:52:19.598564: I tensorflow/compiler/mlir/mlir_graph_optimization_pass.cc:185] None of the MLIR Optimization Passes are enabled (registered 2)\n",
            "2021-08-23 14:52:20.114020: I tensorflow/stream_executor/cuda/cuda_dnn.cc:369] Loaded cuDNN version 8004\n",
            "Time: 17.265 seconds\n",
            "Procesamiento de imagen terminada\n",
            "Iniciando OCR\n",
            "OCR terminado\n",
            "Iniciando análisis de similitudes\n",
            "Iniciando limpieza de texto\n",
            "Limpieza de texto terminada\n",
            "Iniciando búsqueda de expediente\n",
            "No encontrado\n",
            "Búsqueda de expediente finalizada\n",
            "Iniciando clasificación de entidades\n",
            "Clasificación de entidades finalizada\n"
          ],
          "name": "stdout"
        }
      ]
    },
    {
      "cell_type": "markdown",
      "metadata": {
        "id": "dsJ8cmM5cKh_"
      },
      "source": [
        "\n",
        "\n",
        "---\n",
        "\n",
        "Aquí termina lectura de directorio\n",
        "\n",
        "---\n",
        "\n"
      ]
    },
    {
      "cell_type": "markdown",
      "metadata": {
        "id": "rKUa1nl5_F3c"
      },
      "source": [
        "# Lectura de una imagen (sin guardar output en csv)"
      ]
    },
    {
      "cell_type": "code",
      "metadata": {
        "id": "S9YPow3wwy0G"
      },
      "source": [
        "# Leemos la imagen\n",
        "image = rgb2gray(imread(path))"
      ],
      "execution_count": 12,
      "outputs": []
    },
    {
      "cell_type": "code",
      "metadata": {
        "id": "nBM97caYs4Kt"
      },
      "source": [
        "file_name, file_extension = os.path.splitext(path)"
      ],
      "execution_count": 13,
      "outputs": []
    },
    {
      "cell_type": "markdown",
      "metadata": {
        "id": "COkxSDNk_IoL"
      },
      "source": [
        "# Procesamiento de imagen"
      ]
    },
    {
      "cell_type": "markdown",
      "metadata": {
        "id": "EJUQMx-CrRI7"
      },
      "source": [
        "## Rotación de imagen si es necesaria"
      ]
    },
    {
      "cell_type": "code",
      "metadata": {
        "id": "mCHeeQHurTgN",
        "colab": {
          "base_uri": "https://localhost:8080/"
        },
        "outputId": "f590c0ba-28d6-441b-c405-5f531e60998d"
      },
      "source": [
        "#image_rotate vareable\n",
        "image_rotate = rotate(image, skew_angle_hough_transform(image), cval=1)\n",
        "image = cv2.normalize(src= image_rotate, dst=None, alpha=0, beta=255, norm_type=cv2.NORM_MINMAX, dtype=cv2.CV_8U)\n",
        "im_rotada = Image.fromarray(image)\n",
        "im_rotada.save('rotada{}'.format(file_extension))"
      ],
      "execution_count": 14,
      "outputs": [
        {
          "output_type": "stream",
          "text": [
            "[-0.04562616]\n"
          ],
          "name": "stdout"
        }
      ]
    },
    {
      "cell_type": "markdown",
      "metadata": {
        "id": "cKUSOCytuPqj"
      },
      "source": [
        "\n",
        "\n",
        "---\n",
        "\n",
        "\n",
        "\n",
        "---\n",
        "\n"
      ]
    },
    {
      "cell_type": "code",
      "metadata": {
        "id": "5m11v-gAxRXb"
      },
      "source": [
        "imagen_rotada = cv2.imread('rotada{}'.format(file_extension))\n",
        "\n",
        "gray_img = escala_grises(imagen_rotada)\n",
        "imagen_sin_ruido = eliminar_ruido(gray_img)"
      ],
      "execution_count": 15,
      "outputs": []
    },
    {
      "cell_type": "code",
      "metadata": {
        "id": "JKB8y6pNxdsX"
      },
      "source": [
        "im = Image.fromarray(imagen_sin_ruido)\n",
        "save_path = \"gray{}\".format(file_extension)\n",
        "im.save(save_path)"
      ],
      "execution_count": 16,
      "outputs": []
    },
    {
      "cell_type": "code",
      "metadata": {
        "id": "6EHUgmgE289z",
        "colab": {
          "base_uri": "https://localhost:8080/"
        },
        "outputId": "bc5e01d5-35c5-4ca4-e82d-723bdd337b85"
      },
      "source": [
        "!python binarize/binarize.py -imgpath \"{save_path}\" -save out_test\"{file_extension}\""
      ],
      "execution_count": 17,
      "outputs": [
        {
          "output_type": "stream",
          "text": [
            "2021-08-23 18:00:58.816755: I tensorflow/stream_executor/cuda/cuda_gpu_executor.cc:937] successful NUMA node read from SysFS had negative value (-1), but there must be at least one NUMA node, so returning NUMA node zero\n",
            "2021-08-23 18:00:58.837315: I tensorflow/stream_executor/cuda/cuda_gpu_executor.cc:937] successful NUMA node read from SysFS had negative value (-1), but there must be at least one NUMA node, so returning NUMA node zero\n",
            "2021-08-23 18:00:58.838159: I tensorflow/stream_executor/cuda/cuda_gpu_executor.cc:937] successful NUMA node read from SysFS had negative value (-1), but there must be at least one NUMA node, so returning NUMA node zero\n",
            "2021-08-23 18:00:59.303033: I tensorflow/stream_executor/cuda/cuda_gpu_executor.cc:937] successful NUMA node read from SysFS had negative value (-1), but there must be at least one NUMA node, so returning NUMA node zero\n",
            "2021-08-23 18:00:59.303823: I tensorflow/stream_executor/cuda/cuda_gpu_executor.cc:937] successful NUMA node read from SysFS had negative value (-1), but there must be at least one NUMA node, so returning NUMA node zero\n",
            "2021-08-23 18:00:59.304544: I tensorflow/stream_executor/cuda/cuda_gpu_executor.cc:937] successful NUMA node read from SysFS had negative value (-1), but there must be at least one NUMA node, so returning NUMA node zero\n",
            "2021-08-23 18:00:59.305225: I tensorflow/core/common_runtime/gpu/gpu_device.cc:1510] Created device /job:localhost/replica:0/task:0/device:GPU:0 with 10699 MB memory:  -> device: 0, name: Tesla K80, pci bus id: 0000:00:04.0, compute capability: 3.7\n",
            "2021-08-23 18:00:59.325527: I tensorflow/stream_executor/cuda/cuda_gpu_executor.cc:937] successful NUMA node read from SysFS had negative value (-1), but there must be at least one NUMA node, so returning NUMA node zero\n",
            "2021-08-23 18:00:59.326329: I tensorflow/stream_executor/cuda/cuda_gpu_executor.cc:937] successful NUMA node read from SysFS had negative value (-1), but there must be at least one NUMA node, so returning NUMA node zero\n",
            "2021-08-23 18:00:59.327129: I tensorflow/stream_executor/cuda/cuda_gpu_executor.cc:937] successful NUMA node read from SysFS had negative value (-1), but there must be at least one NUMA node, so returning NUMA node zero\n",
            "2021-08-23 18:00:59.328129: I tensorflow/stream_executor/cuda/cuda_gpu_executor.cc:937] successful NUMA node read from SysFS had negative value (-1), but there must be at least one NUMA node, so returning NUMA node zero\n",
            "2021-08-23 18:00:59.328915: I tensorflow/stream_executor/cuda/cuda_gpu_executor.cc:937] successful NUMA node read from SysFS had negative value (-1), but there must be at least one NUMA node, so returning NUMA node zero\n",
            "2021-08-23 18:00:59.329704: I tensorflow/stream_executor/cuda/cuda_gpu_executor.cc:937] successful NUMA node read from SysFS had negative value (-1), but there must be at least one NUMA node, so returning NUMA node zero\n",
            "2021-08-23 18:00:59.330454: I tensorflow/stream_executor/cuda/cuda_gpu_executor.cc:937] successful NUMA node read from SysFS had negative value (-1), but there must be at least one NUMA node, so returning NUMA node zero\n",
            "2021-08-23 18:00:59.331279: I tensorflow/stream_executor/cuda/cuda_gpu_executor.cc:937] successful NUMA node read from SysFS had negative value (-1), but there must be at least one NUMA node, so returning NUMA node zero\n",
            "2021-08-23 18:00:59.331975: I tensorflow/core/common_runtime/gpu/gpu_device.cc:1510] Created device /job:localhost/replica:0/task:0/device:GPU:0 with 10699 MB memory:  -> device: 0, name: Tesla K80, pci bus id: 0000:00:04.0, compute capability: 3.7\n",
            "2021-08-23 18:01:00.086479: I tensorflow/compiler/mlir/mlir_graph_optimization_pass.cc:185] None of the MLIR Optimization Passes are enabled (registered 2)\n",
            "2021-08-23 18:01:02.250830: I tensorflow/stream_executor/cuda/cuda_dnn.cc:369] Loaded cuDNN version 8004\n",
            "Time: 45.532 seconds\n"
          ],
          "name": "stdout"
        }
      ]
    },
    {
      "cell_type": "code",
      "metadata": {
        "id": "03gYKFvG3Pmu"
      },
      "source": [
        "img = cv2.imread('out_test{}'.format(file_extension))"
      ],
      "execution_count": 18,
      "outputs": []
    },
    {
      "cell_type": "code",
      "metadata": {
        "id": "KAcnSu1L87qo"
      },
      "source": [
        "kernel = np.ones((2, 2),np.uint8)\n",
        "closing = cv2.morphologyEx(img, cv2.MORPH_CLOSE, kernel)"
      ],
      "execution_count": 19,
      "outputs": []
    },
    {
      "cell_type": "code",
      "metadata": {
        "id": "fx3GLGT68-Oe"
      },
      "source": [
        "dilation = cv2.erode(closing, kernel,iterations = 1)"
      ],
      "execution_count": 20,
      "outputs": []
    },
    {
      "cell_type": "code",
      "metadata": {
        "id": "E2eXyholQKoe",
        "colab": {
          "base_uri": "https://localhost:8080/",
          "height": 619
        },
        "outputId": "b427794f-d596-4b39-e271-41ec6e8343e4"
      },
      "source": [
        "cv2_imshow(dilation)"
      ],
      "execution_count": 21,
      "outputs": [
        {
          "output_type": "display_data",
          "data": {
            "image/png": "[encoded data removed]",
            "text/plain": [
              "<PIL.Image.Image image mode=RGB size=2304x1728 at 0x7F4E9AF16B90>"
            ]
          },
          "metadata": {}
        }
      ]
    },
    {
      "cell_type": "markdown",
      "metadata": {
        "id": "LZeOcqRG_OKC"
      },
      "source": [
        "# OCR "
      ]
    },
    {
      "cell_type": "code",
      "metadata": {
        "id": "cCgrKn3F9AfG"
      },
      "source": [
        "texto_extraido = pytesseract.image_to_string(dilation)"
      ],
      "execution_count": 22,
      "outputs": []
    },
    {
      "cell_type": "code",
      "metadata": {
        "id": "bJ2vTNzi9oQF",
        "colab": {
          "base_uri": "https://localhost:8080/",
          "height": 157
        },
        "outputId": "d73f9e4b-ebd0-4077-e6da-f232eeefadd8"
      },
      "source": [
        "texto_extraido"
      ],
      "execution_count": 23,
      "outputs": [
        {
          "output_type": "execute_result",
          "data": {
            "application/vnd.google.colaboratory.intrinsic+json": {
              "type": "string"
            },
            "text/plain": [
              "'MORALES LOPEZ,Délia &xp.ll-235-75\\nH-118 L-32 -\\nwlle ‘\\n\\njer que usaba los (as) de Rita 6 Dirin y ANDREAS\\nFOLIO GQeeereeexrexeereeereereerr er er ee\\nsigue diciendg el que habla que el asalto a la-\\nSucursal de} Banco de Amecameca produjo un mi-= 9 -- -—\\nllén seiscientos mil pesos, de los cuales le --\\nentre CHANO a] declarante la suma de $ 30.000.00\\nque distribuy$ entre JUAN,MADALENA, FEDERICO, RI--\\nTA © DIRIN,SOFIA & LA MORENA y ANDREA en mayor =\\nFOLIO 120 + ------- ee ee eee eee!\\ncantidad a ésta Gitima porque en ese momento --\\nera la Gnica que quedaba como miembro de la Die -_.\\nreccién politica de la Srigada Roja;Que con moe\\ntivo de las Gitimas detenciones se restructura-\\n\\n \\n\\n \\n\\x0c'"
            ]
          },
          "metadata": {},
          "execution_count": 23
        }
      ]
    },
    {
      "cell_type": "code",
      "metadata": {
        "id": "3PTlGCcoQ1Aj"
      },
      "source": [
        "tw_prosecuted = TargetWords(texto_extraido, 'prosecuted')\n",
        "tw_organization = TargetWords(texto_extraido, 'organization')\n",
        "tw_states = TargetWords(texto_extraido, 'state')"
      ],
      "execution_count": 24,
      "outputs": []
    },
    {
      "cell_type": "code",
      "metadata": {
        "id": "-cMin-o1VMEl"
      },
      "source": [
        "json_prosecuted = json.dumps(tw_prosecuted.results)\n",
        "json_organization = json.dumps(tw_organization.results)\n",
        "json_states = json.dumps(tw_states.results)"
      ],
      "execution_count": 25,
      "outputs": []
    },
    {
      "cell_type": "code",
      "metadata": {
        "colab": {
          "base_uri": "https://localhost:8080/",
          "height": 98
        },
        "id": "EN4kjBtwXl_1",
        "outputId": "9661952b-aab8-4c27-b6f5-1cbc6d93586e"
      },
      "source": [
        "df_target_words = pd.DataFrame([(json_prosecuted, json_organization, json_states, path)], columns=['personas', 'organizaciones', 'estados', 'filename'])\n",
        "df_target_words"
      ],
      "execution_count": 26,
      "outputs": [
        {
          "output_type": "execute_result",
          "data": {
            "text/html": [
              "<div>\n",
              "<style scoped>\n",
              "    .dataframe tbody tr th:only-of-type {\n",
              "        vertical-align: middle;\n",
              "    }\n",
              "\n",
              "    .dataframe tbody tr th {\n",
              "        vertical-align: top;\n",
              "    }\n",
              "\n",
              "    .dataframe thead th {\n",
              "        text-align: right;\n",
              "    }\n",
              "</style>\n",
              "<table border=\"1\" class=\"dataframe\">\n",
              "  <thead>\n",
              "    <tr style=\"text-align: right;\">\n",
              "      <th></th>\n",
              "      <th>personas</th>\n",
              "      <th>organizaciones</th>\n",
              "      <th>estados</th>\n",
              "      <th>filename</th>\n",
              "    </tr>\n",
              "  </thead>\n",
              "  <tbody>\n",
              "    <tr>\n",
              "      <th>0</th>\n",
              "      <td>[[1.0, \"juan morales\", [\"Juan\", \"Morales\"]], [...</td>\n",
              "      <td>[[0.86, \"momento\", [\"Momento\"]]]</td>\n",
              "      <td>null</td>\n",
              "      <td>/content/drive/MyDrive/Ficheros_Detenidos_Desa...</td>\n",
              "    </tr>\n",
              "  </tbody>\n",
              "</table>\n",
              "</div>"
            ],
            "text/plain": [
              "                                            personas  ...                                           filename\n",
              "0  [[1.0, \"juan morales\", [\"Juan\", \"Morales\"]], [...  ...  /content/drive/MyDrive/Ficheros_Detenidos_Desa...\n",
              "\n",
              "[1 rows x 4 columns]"
            ]
          },
          "metadata": {},
          "execution_count": 26
        }
      ]
    },
    {
      "cell_type": "markdown",
      "metadata": {
        "id": "ZAlOQHE0_Ru4"
      },
      "source": [
        "# Limpieza de texto"
      ]
    },
    {
      "cell_type": "code",
      "metadata": {
        "id": "sO7TcxQY-Izb"
      },
      "source": [
        "texto_limpio = quitar_caracteres_especiales(texto_extraido)\n",
        "texto_limpio = quitar_nonascii(texto_limpio)\n",
        "texto_limpio = quitar_stopwords(texto_limpio)"
      ],
      "execution_count": 27,
      "outputs": []
    },
    {
      "cell_type": "code",
      "metadata": {
        "id": "86wuVLYx-jbL",
        "colab": {
          "base_uri": "https://localhost:8080/",
          "height": 139
        },
        "outputId": "4bfc2615-5858-47f3-c687-1ceedca681c3"
      },
      "source": [
        "texto_limpio"
      ],
      "execution_count": 28,
      "outputs": [
        {
          "output_type": "execute_result",
          "data": {
            "application/vnd.google.colaboratory.intrinsic+json": {
              "type": "string"
            },
            "text/plain": [
              "'MORALES LOPEZDelia & xpll-235-75H-118 L-32 -wlle jer usaba as Rita 6 Dirin y ANDREASFOLIO GQeeereeexrexeereeereereerr er er eesigue diciendg habla asalto la-Sucursal } Banco Amecameca produjo un mi- 9 -- -llen seiscientos mil pesos cuales le -- entre CHANO ] declarante suma $ 3000000que distribuy $ entre JUANMADALENA FEDERICO RI -- TA DIRINSOFIA & LA MORENA y ANDREA mayor FOLIO 120 + -- -- -- - ee ee eee eeecantidad esta Gitima porque ese momento -- era Gnica quedaba como miembro Die -reccien politica Srigada RojaQue con moetivo Gitimas detenciones restructura-'"
            ]
          },
          "metadata": {},
          "execution_count": 28
        }
      ]
    },
    {
      "cell_type": "code",
      "metadata": {
        "id": "GWEgduQQ-kmV"
      },
      "source": [
        "texto_limpio_minusculas = convierte_minusculas(texto_limpio)"
      ],
      "execution_count": 29,
      "outputs": []
    },
    {
      "cell_type": "code",
      "metadata": {
        "id": "x7t-pvKo-5cn",
        "colab": {
          "base_uri": "https://localhost:8080/",
          "height": 139
        },
        "outputId": "3eedf7ed-137f-404e-c006-554ad30db809"
      },
      "source": [
        "texto_limpio_minusculas"
      ],
      "execution_count": 30,
      "outputs": [
        {
          "output_type": "execute_result",
          "data": {
            "application/vnd.google.colaboratory.intrinsic+json": {
              "type": "string"
            },
            "text/plain": [
              "'morales lopezdelia & xpll-235-75h-118 l-32 -wlle jer usaba as rita 6 dirin y andreasfolio gqeeereeexrexeereeereereerr er er eesigue diciendg habla asalto la-sucursal } banco amecameca produjo un mi- 9 -- -llen seiscientos mil pesos cuales le -- entre chano ] declarante suma $ 3000000que distribuy $ entre juanmadalena federico ri -- ta dirinsofia & la morena y andrea mayor folio 120 + -- -- -- - ee ee eee eeecantidad esta gitima porque ese momento -- era gnica quedaba como miembro die -reccien politica srigada rojaque con moetivo gitimas detenciones restructura-'"
            ]
          },
          "metadata": {},
          "execution_count": 30
        }
      ]
    },
    {
      "cell_type": "markdown",
      "metadata": {
        "id": "K6WS2UBSdHd2"
      },
      "source": [
        "# EXP"
      ]
    },
    {
      "cell_type": "code",
      "metadata": {
        "id": "oOese_nCdI9X"
      },
      "source": [
        "x = encontrar_expediente(texto_limpio_minusculas)"
      ],
      "execution_count": 31,
      "outputs": []
    },
    {
      "cell_type": "code",
      "metadata": {
        "id": "Tx2iQdMwfBY0"
      },
      "source": [
        "df_exp = convertir_texto_exp_dataframe(path, x, texto_limpio_minusculas)"
      ],
      "execution_count": 32,
      "outputs": []
    },
    {
      "cell_type": "code",
      "metadata": {
        "id": "v26OEn36g-j0",
        "colab": {
          "base_uri": "https://localhost:8080/",
          "height": 81
        },
        "outputId": "f9121468-e483-4847-9807-fd12b1cb16cd"
      },
      "source": [
        "df_exp"
      ],
      "execution_count": 33,
      "outputs": [
        {
          "output_type": "execute_result",
          "data": {
            "text/html": [
              "<div>\n",
              "<style scoped>\n",
              "    .dataframe tbody tr th:only-of-type {\n",
              "        vertical-align: middle;\n",
              "    }\n",
              "\n",
              "    .dataframe tbody tr th {\n",
              "        vertical-align: top;\n",
              "    }\n",
              "\n",
              "    .dataframe thead th {\n",
              "        text-align: right;\n",
              "    }\n",
              "</style>\n",
              "<table border=\"1\" class=\"dataframe\">\n",
              "  <thead>\n",
              "    <tr style=\"text-align: right;\">\n",
              "      <th></th>\n",
              "      <th>filename</th>\n",
              "      <th>text</th>\n",
              "    </tr>\n",
              "  </thead>\n",
              "  <tbody>\n",
              "    <tr>\n",
              "      <th>0</th>\n",
              "      <td>/content/drive/MyDrive/Ficheros_Detenidos_Desa...</td>\n",
              "      <td>No encontrado| morales lopezdelia &amp; xpll-235-7...</td>\n",
              "    </tr>\n",
              "  </tbody>\n",
              "</table>\n",
              "</div>"
            ],
            "text/plain": [
              "                                            filename                                               text\n",
              "0  /content/drive/MyDrive/Ficheros_Detenidos_Desa...  No encontrado| morales lopezdelia & xpll-235-7..."
            ]
          },
          "metadata": {},
          "execution_count": 33
        }
      ]
    },
    {
      "cell_type": "markdown",
      "metadata": {
        "id": "UtKWSEbXBLlR"
      },
      "source": [
        "# NER"
      ]
    },
    {
      "cell_type": "markdown",
      "metadata": {
        "id": "eghkBuulBS64"
      },
      "source": [
        "## Texto utilizando mayus"
      ]
    },
    {
      "cell_type": "code",
      "metadata": {
        "id": "n7i3g63o-6vq"
      },
      "source": [
        "doc = obtener_entidades(texto_limpio)"
      ],
      "execution_count": 34,
      "outputs": []
    },
    {
      "cell_type": "code",
      "metadata": {
        "id": "iSnkWYyzBK69",
        "colab": {
          "base_uri": "https://localhost:8080/",
          "height": 227
        },
        "outputId": "76aaaf08-ac2b-4297-b054-474a3928d550"
      },
      "source": [
        "# Se muestran las entidades con el visualizador\n",
        "for sent in doc.sents:\n",
        "    displacy.render(nlp(sent.text),style='ent',jupyter=True)"
      ],
      "execution_count": 35,
      "outputs": [
        {
          "output_type": "display_data",
          "data": {
            "text/html": [
              "<span class=\"tex2jax_ignore\"><div class=\"entities\" style=\"line-height: 2.5; direction: ltr\">MORALES \n",
              "<mark class=\"entity\" style=\"background: #ddd; padding: 0.45em 0.6em; margin: 0 0.25em; line-height: 1; border-radius: 0.35em;\">\n",
              "    LOPEZDelia\n",
              "    <span style=\"font-size: 0.8em; font-weight: bold; line-height: 1; border-radius: 0.35em; vertical-align: middle; margin-left: 0.5rem\">MISC</span>\n",
              "</mark>\n",
              " &amp; xpll-235-75H-118 \n",
              "<mark class=\"entity\" style=\"background: #7aecec; padding: 0.45em 0.6em; margin: 0 0.25em; line-height: 1; border-radius: 0.35em;\">\n",
              "    L-32\n",
              "    <span style=\"font-size: 0.8em; font-weight: bold; line-height: 1; border-radius: 0.35em; vertical-align: middle; margin-left: 0.5rem\">ORG</span>\n",
              "</mark>\n",
              " -wlle jer usaba \n",
              "<mark class=\"entity\" style=\"background: #ff9561; padding: 0.45em 0.6em; margin: 0 0.25em; line-height: 1; border-radius: 0.35em;\">\n",
              "    as Rita 6 Dirin\n",
              "    <span style=\"font-size: 0.8em; font-weight: bold; line-height: 1; border-radius: 0.35em; vertical-align: middle; margin-left: 0.5rem\">LOC</span>\n",
              "</mark>\n",
              " y \n",
              "<mark class=\"entity\" style=\"background: #ddd; padding: 0.45em 0.6em; margin: 0 0.25em; line-height: 1; border-radius: 0.35em;\">\n",
              "    ANDREASFOLIO GQeeereeexrexeereeereereerr er er eesigue diciendg\n",
              "    <span style=\"font-size: 0.8em; font-weight: bold; line-height: 1; border-radius: 0.35em; vertical-align: middle; margin-left: 0.5rem\">MISC</span>\n",
              "</mark>\n",
              " habla asalto \n",
              "<mark class=\"entity\" style=\"background: #ddd; padding: 0.45em 0.6em; margin: 0 0.25em; line-height: 1; border-radius: 0.35em;\">\n",
              "    la-Sucursal\n",
              "    <span style=\"font-size: 0.8em; font-weight: bold; line-height: 1; border-radius: 0.35em; vertical-align: middle; margin-left: 0.5rem\">MISC</span>\n",
              "</mark>\n",
              " } \n",
              "<mark class=\"entity\" style=\"background: #ff9561; padding: 0.45em 0.6em; margin: 0 0.25em; line-height: 1; border-radius: 0.35em;\">\n",
              "    Banco Amecameca\n",
              "    <span style=\"font-size: 0.8em; font-weight: bold; line-height: 1; border-radius: 0.35em; vertical-align: middle; margin-left: 0.5rem\">LOC</span>\n",
              "</mark>\n",
              " produjo un mi- 9 -- -llen seiscientos mil pesos cuales le -- entre \n",
              "<mark class=\"entity\" style=\"background: #ff9561; padding: 0.45em 0.6em; margin: 0 0.25em; line-height: 1; border-radius: 0.35em;\">\n",
              "    CHANO\n",
              "    <span style=\"font-size: 0.8em; font-weight: bold; line-height: 1; border-radius: 0.35em; vertical-align: middle; margin-left: 0.5rem\">LOC</span>\n",
              "</mark>\n",
              " ] declarante suma $ 3000000que distribuy $ entre \n",
              "<mark class=\"entity\" style=\"background: #ddd; padding: 0.45em 0.6em; margin: 0 0.25em; line-height: 1; border-radius: 0.35em;\">\n",
              "    JUANMADALENA\n",
              "    <span style=\"font-size: 0.8em; font-weight: bold; line-height: 1; border-radius: 0.35em; vertical-align: middle; margin-left: 0.5rem\">MISC</span>\n",
              "</mark>\n",
              " FEDERICO RI -- \n",
              "<mark class=\"entity\" style=\"background: #7aecec; padding: 0.45em 0.6em; margin: 0 0.25em; line-height: 1; border-radius: 0.35em;\">\n",
              "    TA DIRINSOFIA &amp; LA MORENA\n",
              "    <span style=\"font-size: 0.8em; font-weight: bold; line-height: 1; border-radius: 0.35em; vertical-align: middle; margin-left: 0.5rem\">ORG</span>\n",
              "</mark>\n",
              " y \n",
              "<mark class=\"entity\" style=\"background: #7aecec; padding: 0.45em 0.6em; margin: 0 0.25em; line-height: 1; border-radius: 0.35em;\">\n",
              "    ANDREA\n",
              "    <span style=\"font-size: 0.8em; font-weight: bold; line-height: 1; border-radius: 0.35em; vertical-align: middle; margin-left: 0.5rem\">ORG</span>\n",
              "</mark>\n",
              " mayor \n",
              "<mark class=\"entity\" style=\"background: #ddd; padding: 0.45em 0.6em; margin: 0 0.25em; line-height: 1; border-radius: 0.35em;\">\n",
              "    FOLIO\n",
              "    <span style=\"font-size: 0.8em; font-weight: bold; line-height: 1; border-radius: 0.35em; vertical-align: middle; margin-left: 0.5rem\">MISC</span>\n",
              "</mark>\n",
              " 120 + -- -- -- - \n",
              "<mark class=\"entity\" style=\"background: #ff9561; padding: 0.45em 0.6em; margin: 0 0.25em; line-height: 1; border-radius: 0.35em;\">\n",
              "    ee ee eee\n",
              "    <span style=\"font-size: 0.8em; font-weight: bold; line-height: 1; border-radius: 0.35em; vertical-align: middle; margin-left: 0.5rem\">LOC</span>\n",
              "</mark>\n",
              " eeecantidad esta \n",
              "<mark class=\"entity\" style=\"background: #ddd; padding: 0.45em 0.6em; margin: 0 0.25em; line-height: 1; border-radius: 0.35em;\">\n",
              "    Gitima\n",
              "    <span style=\"font-size: 0.8em; font-weight: bold; line-height: 1; border-radius: 0.35em; vertical-align: middle; margin-left: 0.5rem\">MISC</span>\n",
              "</mark>\n",
              " porque ese momento -- era \n",
              "<mark class=\"entity\" style=\"background: #ddd; padding: 0.45em 0.6em; margin: 0 0.25em; line-height: 1; border-radius: 0.35em;\">\n",
              "    Gnica\n",
              "    <span style=\"font-size: 0.8em; font-weight: bold; line-height: 1; border-radius: 0.35em; vertical-align: middle; margin-left: 0.5rem\">PER</span>\n",
              "</mark>\n",
              " quedaba como miembro \n",
              "<mark class=\"entity\" style=\"background: #ddd; padding: 0.45em 0.6em; margin: 0 0.25em; line-height: 1; border-radius: 0.35em;\">\n",
              "    Die -reccien politica Srigada\n",
              "    <span style=\"font-size: 0.8em; font-weight: bold; line-height: 1; border-radius: 0.35em; vertical-align: middle; margin-left: 0.5rem\">MISC</span>\n",
              "</mark>\n",
              " RojaQue con moetivo \n",
              "<mark class=\"entity\" style=\"background: #ddd; padding: 0.45em 0.6em; margin: 0 0.25em; line-height: 1; border-radius: 0.35em;\">\n",
              "    Gitimas\n",
              "    <span style=\"font-size: 0.8em; font-weight: bold; line-height: 1; border-radius: 0.35em; vertical-align: middle; margin-left: 0.5rem\">PER</span>\n",
              "</mark>\n",
              " detenciones restructura-</div></span>"
            ],
            "text/plain": [
              "<IPython.core.display.HTML object>"
            ]
          },
          "metadata": {}
        }
      ]
    },
    {
      "cell_type": "code",
      "metadata": {
        "id": "wX9jCxBVBODS"
      },
      "source": [
        "# Se extraen las entidades con su tipo\n",
        "df_mayus = guardar_entidades_en_dataframe(doc, path)\n",
        "df_mayus = renombrar_clases_spacy(df_mayus)"
      ],
      "execution_count": 36,
      "outputs": []
    },
    {
      "cell_type": "code",
      "metadata": {
        "id": "geb4dcbUo8UJ",
        "colab": {
          "base_uri": "https://localhost:8080/",
          "height": 829
        },
        "outputId": "e0234af6-ae1e-4be1-bc6f-33de2692f8a0"
      },
      "source": [
        "df_mayus"
      ],
      "execution_count": 37,
      "outputs": [
        {
          "output_type": "execute_result",
          "data": {
            "text/html": [
              "<div>\n",
              "<style scoped>\n",
              "    .dataframe tbody tr th:only-of-type {\n",
              "        vertical-align: middle;\n",
              "    }\n",
              "\n",
              "    .dataframe tbody tr th {\n",
              "        vertical-align: top;\n",
              "    }\n",
              "\n",
              "    .dataframe thead th {\n",
              "        text-align: right;\n",
              "    }\n",
              "</style>\n",
              "<table border=\"1\" class=\"dataframe\">\n",
              "  <thead>\n",
              "    <tr style=\"text-align: right;\">\n",
              "      <th></th>\n",
              "      <th>texto</th>\n",
              "      <th>clase</th>\n",
              "      <th>filename</th>\n",
              "    </tr>\n",
              "  </thead>\n",
              "  <tbody>\n",
              "    <tr>\n",
              "      <th>0</th>\n",
              "      <td>LOPEZDelia</td>\n",
              "      <td>otro</td>\n",
              "      <td>/content/drive/MyDrive/Ficheros_Detenidos_Desa...</td>\n",
              "    </tr>\n",
              "    <tr>\n",
              "      <th>1</th>\n",
              "      <td>L-32</td>\n",
              "      <td>organizacion</td>\n",
              "      <td>/content/drive/MyDrive/Ficheros_Detenidos_Desa...</td>\n",
              "    </tr>\n",
              "    <tr>\n",
              "      <th>2</th>\n",
              "      <td>as Rita 6 Dirin</td>\n",
              "      <td>lugar</td>\n",
              "      <td>/content/drive/MyDrive/Ficheros_Detenidos_Desa...</td>\n",
              "    </tr>\n",
              "    <tr>\n",
              "      <th>3</th>\n",
              "      <td>ANDREASFOLIO GQeeereeexrexeereeereereerr er er...</td>\n",
              "      <td>otro</td>\n",
              "      <td>/content/drive/MyDrive/Ficheros_Detenidos_Desa...</td>\n",
              "    </tr>\n",
              "    <tr>\n",
              "      <th>4</th>\n",
              "      <td>la-Sucursal</td>\n",
              "      <td>otro</td>\n",
              "      <td>/content/drive/MyDrive/Ficheros_Detenidos_Desa...</td>\n",
              "    </tr>\n",
              "    <tr>\n",
              "      <th>5</th>\n",
              "      <td>Banco Amecameca</td>\n",
              "      <td>lugar</td>\n",
              "      <td>/content/drive/MyDrive/Ficheros_Detenidos_Desa...</td>\n",
              "    </tr>\n",
              "    <tr>\n",
              "      <th>6</th>\n",
              "      <td>CHANO</td>\n",
              "      <td>lugar</td>\n",
              "      <td>/content/drive/MyDrive/Ficheros_Detenidos_Desa...</td>\n",
              "    </tr>\n",
              "    <tr>\n",
              "      <th>7</th>\n",
              "      <td>JUANMADALENA</td>\n",
              "      <td>otro</td>\n",
              "      <td>/content/drive/MyDrive/Ficheros_Detenidos_Desa...</td>\n",
              "    </tr>\n",
              "    <tr>\n",
              "      <th>8</th>\n",
              "      <td>TA DIRINSOFIA &amp; LA MORENA</td>\n",
              "      <td>organizacion</td>\n",
              "      <td>/content/drive/MyDrive/Ficheros_Detenidos_Desa...</td>\n",
              "    </tr>\n",
              "    <tr>\n",
              "      <th>9</th>\n",
              "      <td>ANDREA</td>\n",
              "      <td>organizacion</td>\n",
              "      <td>/content/drive/MyDrive/Ficheros_Detenidos_Desa...</td>\n",
              "    </tr>\n",
              "    <tr>\n",
              "      <th>10</th>\n",
              "      <td>FOLIO</td>\n",
              "      <td>otro</td>\n",
              "      <td>/content/drive/MyDrive/Ficheros_Detenidos_Desa...</td>\n",
              "    </tr>\n",
              "    <tr>\n",
              "      <th>11</th>\n",
              "      <td>ee ee eee</td>\n",
              "      <td>lugar</td>\n",
              "      <td>/content/drive/MyDrive/Ficheros_Detenidos_Desa...</td>\n",
              "    </tr>\n",
              "    <tr>\n",
              "      <th>12</th>\n",
              "      <td>Gitima</td>\n",
              "      <td>otro</td>\n",
              "      <td>/content/drive/MyDrive/Ficheros_Detenidos_Desa...</td>\n",
              "    </tr>\n",
              "    <tr>\n",
              "      <th>13</th>\n",
              "      <td>Gnica</td>\n",
              "      <td>persona</td>\n",
              "      <td>/content/drive/MyDrive/Ficheros_Detenidos_Desa...</td>\n",
              "    </tr>\n",
              "    <tr>\n",
              "      <th>14</th>\n",
              "      <td>Die -reccien politica Srigada</td>\n",
              "      <td>otro</td>\n",
              "      <td>/content/drive/MyDrive/Ficheros_Detenidos_Desa...</td>\n",
              "    </tr>\n",
              "    <tr>\n",
              "      <th>15</th>\n",
              "      <td>Gitimas</td>\n",
              "      <td>persona</td>\n",
              "      <td>/content/drive/MyDrive/Ficheros_Detenidos_Desa...</td>\n",
              "    </tr>\n",
              "  </tbody>\n",
              "</table>\n",
              "</div>"
            ],
            "text/plain": [
              "                                                texto  ...                                           filename\n",
              "0                                          LOPEZDelia  ...  /content/drive/MyDrive/Ficheros_Detenidos_Desa...\n",
              "1                                                L-32  ...  /content/drive/MyDrive/Ficheros_Detenidos_Desa...\n",
              "2                                     as Rita 6 Dirin  ...  /content/drive/MyDrive/Ficheros_Detenidos_Desa...\n",
              "3   ANDREASFOLIO GQeeereeexrexeereeereereerr er er...  ...  /content/drive/MyDrive/Ficheros_Detenidos_Desa...\n",
              "4                                         la-Sucursal  ...  /content/drive/MyDrive/Ficheros_Detenidos_Desa...\n",
              "5                                     Banco Amecameca  ...  /content/drive/MyDrive/Ficheros_Detenidos_Desa...\n",
              "6                                               CHANO  ...  /content/drive/MyDrive/Ficheros_Detenidos_Desa...\n",
              "7                                        JUANMADALENA  ...  /content/drive/MyDrive/Ficheros_Detenidos_Desa...\n",
              "8                           TA DIRINSOFIA & LA MORENA  ...  /content/drive/MyDrive/Ficheros_Detenidos_Desa...\n",
              "9                                              ANDREA  ...  /content/drive/MyDrive/Ficheros_Detenidos_Desa...\n",
              "10                                              FOLIO  ...  /content/drive/MyDrive/Ficheros_Detenidos_Desa...\n",
              "11                                          ee ee eee  ...  /content/drive/MyDrive/Ficheros_Detenidos_Desa...\n",
              "12                                             Gitima  ...  /content/drive/MyDrive/Ficheros_Detenidos_Desa...\n",
              "13                                              Gnica  ...  /content/drive/MyDrive/Ficheros_Detenidos_Desa...\n",
              "14                      Die -reccien politica Srigada  ...  /content/drive/MyDrive/Ficheros_Detenidos_Desa...\n",
              "15                                            Gitimas  ...  /content/drive/MyDrive/Ficheros_Detenidos_Desa...\n",
              "\n",
              "[16 rows x 3 columns]"
            ]
          },
          "metadata": {},
          "execution_count": 37
        }
      ]
    },
    {
      "cell_type": "markdown",
      "metadata": {
        "id": "-GQ0-k8ZBpFv"
      },
      "source": [
        "## Texto todo en minusculas"
      ]
    },
    {
      "cell_type": "code",
      "metadata": {
        "id": "ShroRaQJBcHa"
      },
      "source": [
        "doc = obtener_entidades(texto_limpio_minusculas)"
      ],
      "execution_count": 38,
      "outputs": []
    },
    {
      "cell_type": "code",
      "metadata": {
        "id": "Dvjkr0kmBlM4",
        "colab": {
          "base_uri": "https://localhost:8080/",
          "height": 192
        },
        "outputId": "371197d9-feaf-409f-be9b-8849d5632572"
      },
      "source": [
        "# Se muestran las entidades con el visualizador\n",
        "for sent in doc.sents:\n",
        "    displacy.render(nlp(sent.text),style='ent',jupyter=True)"
      ],
      "execution_count": 39,
      "outputs": [
        {
          "output_type": "display_data",
          "data": {
            "text/html": [
              "<span class=\"tex2jax_ignore\"><div class=\"entities\" style=\"line-height: 2.5; direction: ltr\">morales lopezdelia &amp; xpll-235-75h-118 l-32 -wlle jer usaba as rita 6 dirin y \n",
              "<mark class=\"entity\" style=\"background: #ddd; padding: 0.45em 0.6em; margin: 0 0.25em; line-height: 1; border-radius: 0.35em;\">\n",
              "    andreasfolio gqeeereeexrexeereeereereerr er er eesigue diciendg\n",
              "    <span style=\"font-size: 0.8em; font-weight: bold; line-height: 1; border-radius: 0.35em; vertical-align: middle; margin-left: 0.5rem\">PER</span>\n",
              "</mark>\n",
              " habla asalto la-sucursal } banco amecameca produjo un mi- 9 -- -llen seiscientos mil pesos cuales le -- entre chano ] declarante suma $ 3000000que distribuy $ entre \n",
              "<mark class=\"entity\" style=\"background: #ddd; padding: 0.45em 0.6em; margin: 0 0.25em; line-height: 1; border-radius: 0.35em;\">\n",
              "    juanmadalena federico ri -- ta dirinsofia &amp; la morena\n",
              "    <span style=\"font-size: 0.8em; font-weight: bold; line-height: 1; border-radius: 0.35em; vertical-align: middle; margin-left: 0.5rem\">PER</span>\n",
              "</mark>\n",
              " y \n",
              "<mark class=\"entity\" style=\"background: #ddd; padding: 0.45em 0.6em; margin: 0 0.25em; line-height: 1; border-radius: 0.35em;\">\n",
              "    andrea mayor\n",
              "    <span style=\"font-size: 0.8em; font-weight: bold; line-height: 1; border-radius: 0.35em; vertical-align: middle; margin-left: 0.5rem\">PER</span>\n",
              "</mark>\n",
              " folio 120 + -- -- -- - \n",
              "<mark class=\"entity\" style=\"background: #ff9561; padding: 0.45em 0.6em; margin: 0 0.25em; line-height: 1; border-radius: 0.35em;\">\n",
              "    ee ee eee\n",
              "    <span style=\"font-size: 0.8em; font-weight: bold; line-height: 1; border-radius: 0.35em; vertical-align: middle; margin-left: 0.5rem\">LOC</span>\n",
              "</mark>\n",
              " eeecantidad esta gitima porque ese momento -- era gnica quedaba como miembro \n",
              "<mark class=\"entity\" style=\"background: #ddd; padding: 0.45em 0.6em; margin: 0 0.25em; line-height: 1; border-radius: 0.35em;\">\n",
              "    die -reccien\n",
              "    <span style=\"font-size: 0.8em; font-weight: bold; line-height: 1; border-radius: 0.35em; vertical-align: middle; margin-left: 0.5rem\">MISC</span>\n",
              "</mark>\n",
              " politica srigada rojaque con moetivo gitimas detenciones restructura-</div></span>"
            ],
            "text/plain": [
              "<IPython.core.display.HTML object>"
            ]
          },
          "metadata": {}
        }
      ]
    },
    {
      "cell_type": "code",
      "metadata": {
        "id": "7OUbb4gWBmS7"
      },
      "source": [
        "# Se extraen las entidades con su tipo\n",
        "df_minus = guardar_entidades_en_dataframe(doc, path)"
      ],
      "execution_count": 40,
      "outputs": []
    },
    {
      "cell_type": "code",
      "metadata": {
        "id": "6AbXkl3jh1Lw"
      },
      "source": [
        "df_minus = renombrar_clases_spacy(df_minus)"
      ],
      "execution_count": 41,
      "outputs": []
    },
    {
      "cell_type": "code",
      "metadata": {
        "id": "xcwO57EWk7IK",
        "colab": {
          "base_uri": "https://localhost:8080/",
          "height": 206
        },
        "outputId": "7591ec18-9ab3-4960-d414-f65057b65c1c"
      },
      "source": [
        "df_minus"
      ],
      "execution_count": 42,
      "outputs": [
        {
          "output_type": "execute_result",
          "data": {
            "text/html": [
              "<div>\n",
              "<style scoped>\n",
              "    .dataframe tbody tr th:only-of-type {\n",
              "        vertical-align: middle;\n",
              "    }\n",
              "\n",
              "    .dataframe tbody tr th {\n",
              "        vertical-align: top;\n",
              "    }\n",
              "\n",
              "    .dataframe thead th {\n",
              "        text-align: right;\n",
              "    }\n",
              "</style>\n",
              "<table border=\"1\" class=\"dataframe\">\n",
              "  <thead>\n",
              "    <tr style=\"text-align: right;\">\n",
              "      <th></th>\n",
              "      <th>texto</th>\n",
              "      <th>clase</th>\n",
              "      <th>filename</th>\n",
              "    </tr>\n",
              "  </thead>\n",
              "  <tbody>\n",
              "    <tr>\n",
              "      <th>0</th>\n",
              "      <td>andreasfolio gqeeereeexrexeereeereereerr er er...</td>\n",
              "      <td>persona</td>\n",
              "      <td>/content/drive/MyDrive/Ficheros_Detenidos_Desa...</td>\n",
              "    </tr>\n",
              "    <tr>\n",
              "      <th>1</th>\n",
              "      <td>juanmadalena federico ri -- ta dirinsofia &amp; la...</td>\n",
              "      <td>persona</td>\n",
              "      <td>/content/drive/MyDrive/Ficheros_Detenidos_Desa...</td>\n",
              "    </tr>\n",
              "    <tr>\n",
              "      <th>2</th>\n",
              "      <td>andrea mayor</td>\n",
              "      <td>persona</td>\n",
              "      <td>/content/drive/MyDrive/Ficheros_Detenidos_Desa...</td>\n",
              "    </tr>\n",
              "    <tr>\n",
              "      <th>3</th>\n",
              "      <td>ee ee eee</td>\n",
              "      <td>lugar</td>\n",
              "      <td>/content/drive/MyDrive/Ficheros_Detenidos_Desa...</td>\n",
              "    </tr>\n",
              "    <tr>\n",
              "      <th>4</th>\n",
              "      <td>die -reccien</td>\n",
              "      <td>otro</td>\n",
              "      <td>/content/drive/MyDrive/Ficheros_Detenidos_Desa...</td>\n",
              "    </tr>\n",
              "  </tbody>\n",
              "</table>\n",
              "</div>"
            ],
            "text/plain": [
              "                                               texto  ...                                           filename\n",
              "0  andreasfolio gqeeereeexrexeereeereereerr er er...  ...  /content/drive/MyDrive/Ficheros_Detenidos_Desa...\n",
              "1  juanmadalena federico ri -- ta dirinsofia & la...  ...  /content/drive/MyDrive/Ficheros_Detenidos_Desa...\n",
              "2                                       andrea mayor  ...  /content/drive/MyDrive/Ficheros_Detenidos_Desa...\n",
              "3                                          ee ee eee  ...  /content/drive/MyDrive/Ficheros_Detenidos_Desa...\n",
              "4                                       die -reccien  ...  /content/drive/MyDrive/Ficheros_Detenidos_Desa...\n",
              "\n",
              "[5 rows x 3 columns]"
            ]
          },
          "metadata": {},
          "execution_count": 42
        }
      ]
    }
  ]
}